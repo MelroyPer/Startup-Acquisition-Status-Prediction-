{
 "cells": [
  {
   "cell_type": "markdown",
   "id": "62d4777f",
   "metadata": {},
   "source": [
    "# Startup-Acquisition-Status-Prediction"
   ]
  },
  {
   "cell_type": "markdown",
   "id": "c9786fc5",
   "metadata": {},
   "source": [
    "## Data preprocessing"
   ]
  },
  {
   "cell_type": "code",
   "execution_count": 1,
   "id": "3b8408a6",
   "metadata": {},
   "outputs": [],
   "source": [
    "#import necessary libraries  \n",
    "import pandas as pd\n",
    "import numpy as np\n",
    "import warnings\n",
    "import matplotlib.pyplot as plt\n",
    "import seaborn as sns\n",
    "\n",
    "sns.set()\n",
    "warnings.filterwarnings('ignore')"
   ]
  },
  {
   "cell_type": "code",
   "execution_count": 2,
   "id": "56e9b244",
   "metadata": {},
   "outputs": [],
   "source": [
    "company = pd.read_csv(\"companies.csv\")"
   ]
  },
  {
   "cell_type": "code",
   "execution_count": 3,
   "id": "b6d1453d",
   "metadata": {},
   "outputs": [
    {
     "data": {
      "text/plain": [
       "(196553, 44)"
      ]
     },
     "execution_count": 3,
     "metadata": {},
     "output_type": "execute_result"
    }
   ],
   "source": [
    "company.shape"
   ]
  },
  {
   "cell_type": "code",
   "execution_count": 4,
   "id": "3a7569ac",
   "metadata": {},
   "outputs": [
    {
     "data": {
      "text/html": [
       "<div>\n",
       "<style scoped>\n",
       "    .dataframe tbody tr th:only-of-type {\n",
       "        vertical-align: middle;\n",
       "    }\n",
       "\n",
       "    .dataframe tbody tr th {\n",
       "        vertical-align: top;\n",
       "    }\n",
       "\n",
       "    .dataframe thead th {\n",
       "        text-align: right;\n",
       "    }\n",
       "</style>\n",
       "<table border=\"1\" class=\"dataframe\">\n",
       "  <thead>\n",
       "    <tr style=\"text-align: right;\">\n",
       "      <th></th>\n",
       "      <th>id</th>\n",
       "      <th>Unnamed: 0.1</th>\n",
       "      <th>entity_type</th>\n",
       "      <th>entity_id</th>\n",
       "      <th>parent_id</th>\n",
       "      <th>name</th>\n",
       "      <th>normalized_name</th>\n",
       "      <th>permalink</th>\n",
       "      <th>category_code</th>\n",
       "      <th>status</th>\n",
       "      <th>...</th>\n",
       "      <th>first_milestone_at</th>\n",
       "      <th>last_milestone_at</th>\n",
       "      <th>milestones</th>\n",
       "      <th>relationships</th>\n",
       "      <th>created_by</th>\n",
       "      <th>created_at</th>\n",
       "      <th>updated_at</th>\n",
       "      <th>lat</th>\n",
       "      <th>lng</th>\n",
       "      <th>ROI</th>\n",
       "    </tr>\n",
       "  </thead>\n",
       "  <tbody>\n",
       "    <tr>\n",
       "      <th>0</th>\n",
       "      <td>c:1</td>\n",
       "      <td>0</td>\n",
       "      <td>Company</td>\n",
       "      <td>1</td>\n",
       "      <td>NaN</td>\n",
       "      <td>Wetpaint</td>\n",
       "      <td>wetpaint</td>\n",
       "      <td>/company/wetpaint</td>\n",
       "      <td>web</td>\n",
       "      <td>operating</td>\n",
       "      <td>...</td>\n",
       "      <td>2010-09-05</td>\n",
       "      <td>2013-09-18</td>\n",
       "      <td>5.0</td>\n",
       "      <td>17.0</td>\n",
       "      <td>initial-importer</td>\n",
       "      <td>2007-05-25 06:51:27</td>\n",
       "      <td>2013-04-13 03:29:00</td>\n",
       "      <td>47.606209</td>\n",
       "      <td>-122.332071</td>\n",
       "      <td>15.5</td>\n",
       "    </tr>\n",
       "    <tr>\n",
       "      <th>1</th>\n",
       "      <td>c:10</td>\n",
       "      <td>1</td>\n",
       "      <td>Company</td>\n",
       "      <td>10</td>\n",
       "      <td>NaN</td>\n",
       "      <td>Flektor</td>\n",
       "      <td>flektor</td>\n",
       "      <td>/company/flektor</td>\n",
       "      <td>games_video</td>\n",
       "      <td>acquired</td>\n",
       "      <td>...</td>\n",
       "      <td>NaN</td>\n",
       "      <td>NaN</td>\n",
       "      <td>NaN</td>\n",
       "      <td>6.0</td>\n",
       "      <td>initial-importer</td>\n",
       "      <td>2007-05-31 21:11:51</td>\n",
       "      <td>2008-05-23 23:23:14</td>\n",
       "      <td>34.021122</td>\n",
       "      <td>-118.396467</td>\n",
       "      <td>NaN</td>\n",
       "    </tr>\n",
       "    <tr>\n",
       "      <th>2</th>\n",
       "      <td>c:100</td>\n",
       "      <td>2</td>\n",
       "      <td>Company</td>\n",
       "      <td>100</td>\n",
       "      <td>NaN</td>\n",
       "      <td>There</td>\n",
       "      <td>there</td>\n",
       "      <td>/company/there</td>\n",
       "      <td>games_video</td>\n",
       "      <td>acquired</td>\n",
       "      <td>...</td>\n",
       "      <td>2003-02-01</td>\n",
       "      <td>2011-09-23</td>\n",
       "      <td>4.0</td>\n",
       "      <td>12.0</td>\n",
       "      <td>initial-importer</td>\n",
       "      <td>2007-08-06 23:52:45</td>\n",
       "      <td>2013-11-04 02:09:48</td>\n",
       "      <td>37.562992</td>\n",
       "      <td>-122.325525</td>\n",
       "      <td>NaN</td>\n",
       "    </tr>\n",
       "    <tr>\n",
       "      <th>3</th>\n",
       "      <td>c:10000</td>\n",
       "      <td>3</td>\n",
       "      <td>Company</td>\n",
       "      <td>10000</td>\n",
       "      <td>NaN</td>\n",
       "      <td>MYWEBBO</td>\n",
       "      <td>mywebbo</td>\n",
       "      <td>/company/mywebbo</td>\n",
       "      <td>network_hosting</td>\n",
       "      <td>operating</td>\n",
       "      <td>...</td>\n",
       "      <td>NaN</td>\n",
       "      <td>NaN</td>\n",
       "      <td>NaN</td>\n",
       "      <td>NaN</td>\n",
       "      <td>NaN</td>\n",
       "      <td>2008-08-24 16:51:57</td>\n",
       "      <td>2008-09-06 14:19:18</td>\n",
       "      <td>NaN</td>\n",
       "      <td>NaN</td>\n",
       "      <td>NaN</td>\n",
       "    </tr>\n",
       "    <tr>\n",
       "      <th>4</th>\n",
       "      <td>c:10001</td>\n",
       "      <td>4</td>\n",
       "      <td>Company</td>\n",
       "      <td>10001</td>\n",
       "      <td>NaN</td>\n",
       "      <td>THE Movie Streamer</td>\n",
       "      <td>the movie streamer</td>\n",
       "      <td>/company/the-movie-streamer</td>\n",
       "      <td>games_video</td>\n",
       "      <td>operating</td>\n",
       "      <td>...</td>\n",
       "      <td>NaN</td>\n",
       "      <td>NaN</td>\n",
       "      <td>NaN</td>\n",
       "      <td>NaN</td>\n",
       "      <td>NaN</td>\n",
       "      <td>2008-08-24 17:10:34</td>\n",
       "      <td>2008-09-06 14:19:18</td>\n",
       "      <td>NaN</td>\n",
       "      <td>NaN</td>\n",
       "      <td>NaN</td>\n",
       "    </tr>\n",
       "  </tbody>\n",
       "</table>\n",
       "<p>5 rows × 44 columns</p>\n",
       "</div>"
      ],
      "text/plain": [
       "        id  Unnamed: 0.1 entity_type  entity_id  parent_id  \\\n",
       "0      c:1             0     Company          1        NaN   \n",
       "1     c:10             1     Company         10        NaN   \n",
       "2    c:100             2     Company        100        NaN   \n",
       "3  c:10000             3     Company      10000        NaN   \n",
       "4  c:10001             4     Company      10001        NaN   \n",
       "\n",
       "                 name     normalized_name                    permalink  \\\n",
       "0            Wetpaint            wetpaint            /company/wetpaint   \n",
       "1             Flektor             flektor             /company/flektor   \n",
       "2               There               there               /company/there   \n",
       "3             MYWEBBO             mywebbo             /company/mywebbo   \n",
       "4  THE Movie Streamer  the movie streamer  /company/the-movie-streamer   \n",
       "\n",
       "     category_code     status  ... first_milestone_at last_milestone_at  \\\n",
       "0              web  operating  ...         2010-09-05        2013-09-18   \n",
       "1      games_video   acquired  ...                NaN               NaN   \n",
       "2      games_video   acquired  ...         2003-02-01        2011-09-23   \n",
       "3  network_hosting  operating  ...                NaN               NaN   \n",
       "4      games_video  operating  ...                NaN               NaN   \n",
       "\n",
       "  milestones relationships        created_by           created_at  \\\n",
       "0        5.0          17.0  initial-importer  2007-05-25 06:51:27   \n",
       "1        NaN           6.0  initial-importer  2007-05-31 21:11:51   \n",
       "2        4.0          12.0  initial-importer  2007-08-06 23:52:45   \n",
       "3        NaN           NaN               NaN  2008-08-24 16:51:57   \n",
       "4        NaN           NaN               NaN  2008-08-24 17:10:34   \n",
       "\n",
       "            updated_at        lat         lng   ROI  \n",
       "0  2013-04-13 03:29:00  47.606209 -122.332071  15.5  \n",
       "1  2008-05-23 23:23:14  34.021122 -118.396467   NaN  \n",
       "2  2013-11-04 02:09:48  37.562992 -122.325525   NaN  \n",
       "3  2008-09-06 14:19:18        NaN         NaN   NaN  \n",
       "4  2008-09-06 14:19:18        NaN         NaN   NaN  \n",
       "\n",
       "[5 rows x 44 columns]"
      ]
     },
     "execution_count": 4,
     "metadata": {},
     "output_type": "execute_result"
    }
   ],
   "source": [
    "company.head()"
   ]
  },
  {
   "cell_type": "code",
   "execution_count": 5,
   "id": "2b7ad8ab",
   "metadata": {},
   "outputs": [
    {
     "data": {
      "text/html": [
       "<div>\n",
       "<style scoped>\n",
       "    .dataframe tbody tr th:only-of-type {\n",
       "        vertical-align: middle;\n",
       "    }\n",
       "\n",
       "    .dataframe tbody tr th {\n",
       "        vertical-align: top;\n",
       "    }\n",
       "\n",
       "    .dataframe thead th {\n",
       "        text-align: right;\n",
       "    }\n",
       "</style>\n",
       "<table border=\"1\" class=\"dataframe\">\n",
       "  <thead>\n",
       "    <tr style=\"text-align: right;\">\n",
       "      <th></th>\n",
       "      <th>id</th>\n",
       "      <th>Unnamed: 0.1</th>\n",
       "      <th>entity_type</th>\n",
       "      <th>entity_id</th>\n",
       "      <th>parent_id</th>\n",
       "      <th>name</th>\n",
       "      <th>normalized_name</th>\n",
       "      <th>permalink</th>\n",
       "      <th>category_code</th>\n",
       "      <th>status</th>\n",
       "      <th>...</th>\n",
       "      <th>first_milestone_at</th>\n",
       "      <th>last_milestone_at</th>\n",
       "      <th>milestones</th>\n",
       "      <th>relationships</th>\n",
       "      <th>created_by</th>\n",
       "      <th>created_at</th>\n",
       "      <th>updated_at</th>\n",
       "      <th>lat</th>\n",
       "      <th>lng</th>\n",
       "      <th>ROI</th>\n",
       "    </tr>\n",
       "  </thead>\n",
       "  <tbody>\n",
       "    <tr>\n",
       "      <th>196548</th>\n",
       "      <td>c:99940</td>\n",
       "      <td>196548</td>\n",
       "      <td>Company</td>\n",
       "      <td>99940</td>\n",
       "      <td>NaN</td>\n",
       "      <td>Webgility</td>\n",
       "      <td>webgility</td>\n",
       "      <td>/company/webgility</td>\n",
       "      <td>ecommerce</td>\n",
       "      <td>operating</td>\n",
       "      <td>...</td>\n",
       "      <td>2013-08-12</td>\n",
       "      <td>2013-08-12</td>\n",
       "      <td>2.0</td>\n",
       "      <td>5.0</td>\n",
       "      <td>NaN</td>\n",
       "      <td>2011-09-06 23:17:56</td>\n",
       "      <td>2013-08-13 00:39:13</td>\n",
       "      <td>37.774929</td>\n",
       "      <td>-122.419415</td>\n",
       "      <td>NaN</td>\n",
       "    </tr>\n",
       "    <tr>\n",
       "      <th>196549</th>\n",
       "      <td>c:9995</td>\n",
       "      <td>196549</td>\n",
       "      <td>Company</td>\n",
       "      <td>9995</td>\n",
       "      <td>NaN</td>\n",
       "      <td>FohBoh</td>\n",
       "      <td>fohboh</td>\n",
       "      <td>/company/fohboh</td>\n",
       "      <td>public_relations</td>\n",
       "      <td>operating</td>\n",
       "      <td>...</td>\n",
       "      <td>2013-05-01</td>\n",
       "      <td>2013-05-01</td>\n",
       "      <td>1.0</td>\n",
       "      <td>14.0</td>\n",
       "      <td>NaN</td>\n",
       "      <td>2008-08-24 15:46:26</td>\n",
       "      <td>2013-06-28 20:55:30</td>\n",
       "      <td>37.338208</td>\n",
       "      <td>-121.886329</td>\n",
       "      <td>NaN</td>\n",
       "    </tr>\n",
       "    <tr>\n",
       "      <th>196550</th>\n",
       "      <td>c:9996</td>\n",
       "      <td>196550</td>\n",
       "      <td>Company</td>\n",
       "      <td>9996</td>\n",
       "      <td>NaN</td>\n",
       "      <td>CSC</td>\n",
       "      <td>csc</td>\n",
       "      <td>/company/csc</td>\n",
       "      <td>consulting</td>\n",
       "      <td>operating</td>\n",
       "      <td>...</td>\n",
       "      <td>2012-01-01</td>\n",
       "      <td>2013-10-30</td>\n",
       "      <td>3.0</td>\n",
       "      <td>44.0</td>\n",
       "      <td>NaN</td>\n",
       "      <td>2008-08-24 15:46:58</td>\n",
       "      <td>2013-06-28 20:52:01</td>\n",
       "      <td>38.882334</td>\n",
       "      <td>-77.171091</td>\n",
       "      <td>NaN</td>\n",
       "    </tr>\n",
       "    <tr>\n",
       "      <th>196551</th>\n",
       "      <td>c:9997</td>\n",
       "      <td>196551</td>\n",
       "      <td>Company</td>\n",
       "      <td>9997</td>\n",
       "      <td>NaN</td>\n",
       "      <td>Top-candidate</td>\n",
       "      <td>top candidate</td>\n",
       "      <td>/company/top-candidate</td>\n",
       "      <td>search</td>\n",
       "      <td>operating</td>\n",
       "      <td>...</td>\n",
       "      <td>NaN</td>\n",
       "      <td>NaN</td>\n",
       "      <td>NaN</td>\n",
       "      <td>1.0</td>\n",
       "      <td>NaN</td>\n",
       "      <td>2008-08-24 16:00:22</td>\n",
       "      <td>2013-06-28 20:56:44</td>\n",
       "      <td>34.052234</td>\n",
       "      <td>-118.243685</td>\n",
       "      <td>NaN</td>\n",
       "    </tr>\n",
       "    <tr>\n",
       "      <th>196552</th>\n",
       "      <td>c:9998</td>\n",
       "      <td>196552</td>\n",
       "      <td>Company</td>\n",
       "      <td>9998</td>\n",
       "      <td>NaN</td>\n",
       "      <td>Closet Couture</td>\n",
       "      <td>closet couture</td>\n",
       "      <td>/company/closet-couture</td>\n",
       "      <td>ecommerce</td>\n",
       "      <td>operating</td>\n",
       "      <td>...</td>\n",
       "      <td>2006-07-01</td>\n",
       "      <td>2008-09-10</td>\n",
       "      <td>2.0</td>\n",
       "      <td>1.0</td>\n",
       "      <td>NaN</td>\n",
       "      <td>2008-08-24 16:46:13</td>\n",
       "      <td>2013-03-23 12:01:50</td>\n",
       "      <td>34.035633</td>\n",
       "      <td>-118.515590</td>\n",
       "      <td>NaN</td>\n",
       "    </tr>\n",
       "  </tbody>\n",
       "</table>\n",
       "<p>5 rows × 44 columns</p>\n",
       "</div>"
      ],
      "text/plain": [
       "             id  Unnamed: 0.1 entity_type  entity_id  parent_id  \\\n",
       "196548  c:99940        196548     Company      99940        NaN   \n",
       "196549   c:9995        196549     Company       9995        NaN   \n",
       "196550   c:9996        196550     Company       9996        NaN   \n",
       "196551   c:9997        196551     Company       9997        NaN   \n",
       "196552   c:9998        196552     Company       9998        NaN   \n",
       "\n",
       "                  name normalized_name                permalink  \\\n",
       "196548       Webgility       webgility       /company/webgility   \n",
       "196549          FohBoh          fohboh          /company/fohboh   \n",
       "196550             CSC             csc             /company/csc   \n",
       "196551   Top-candidate   top candidate   /company/top-candidate   \n",
       "196552  Closet Couture  closet couture  /company/closet-couture   \n",
       "\n",
       "           category_code     status  ... first_milestone_at last_milestone_at  \\\n",
       "196548         ecommerce  operating  ...         2013-08-12        2013-08-12   \n",
       "196549  public_relations  operating  ...         2013-05-01        2013-05-01   \n",
       "196550        consulting  operating  ...         2012-01-01        2013-10-30   \n",
       "196551            search  operating  ...                NaN               NaN   \n",
       "196552         ecommerce  operating  ...         2006-07-01        2008-09-10   \n",
       "\n",
       "       milestones relationships created_by           created_at  \\\n",
       "196548        2.0           5.0        NaN  2011-09-06 23:17:56   \n",
       "196549        1.0          14.0        NaN  2008-08-24 15:46:26   \n",
       "196550        3.0          44.0        NaN  2008-08-24 15:46:58   \n",
       "196551        NaN           1.0        NaN  2008-08-24 16:00:22   \n",
       "196552        2.0           1.0        NaN  2008-08-24 16:46:13   \n",
       "\n",
       "                 updated_at        lat         lng ROI  \n",
       "196548  2013-08-13 00:39:13  37.774929 -122.419415 NaN  \n",
       "196549  2013-06-28 20:55:30  37.338208 -121.886329 NaN  \n",
       "196550  2013-06-28 20:52:01  38.882334  -77.171091 NaN  \n",
       "196551  2013-06-28 20:56:44  34.052234 -118.243685 NaN  \n",
       "196552  2013-03-23 12:01:50  34.035633 -118.515590 NaN  \n",
       "\n",
       "[5 rows x 44 columns]"
      ]
     },
     "execution_count": 5,
     "metadata": {},
     "output_type": "execute_result"
    }
   ],
   "source": [
    "company.tail()"
   ]
  },
  {
   "cell_type": "code",
   "execution_count": 6,
   "id": "37f4f6c2",
   "metadata": {},
   "outputs": [
    {
     "data": {
      "text/html": [
       "<div>\n",
       "<style scoped>\n",
       "    .dataframe tbody tr th:only-of-type {\n",
       "        vertical-align: middle;\n",
       "    }\n",
       "\n",
       "    .dataframe tbody tr th {\n",
       "        vertical-align: top;\n",
       "    }\n",
       "\n",
       "    .dataframe thead th {\n",
       "        text-align: right;\n",
       "    }\n",
       "</style>\n",
       "<table border=\"1\" class=\"dataframe\">\n",
       "  <thead>\n",
       "    <tr style=\"text-align: right;\">\n",
       "      <th></th>\n",
       "      <th>Unnamed: 0.1</th>\n",
       "      <th>entity_id</th>\n",
       "      <th>parent_id</th>\n",
       "      <th>logo_width</th>\n",
       "      <th>logo_height</th>\n",
       "      <th>investment_rounds</th>\n",
       "      <th>invested_companies</th>\n",
       "      <th>funding_rounds</th>\n",
       "      <th>funding_total_usd</th>\n",
       "      <th>milestones</th>\n",
       "      <th>relationships</th>\n",
       "      <th>lat</th>\n",
       "      <th>lng</th>\n",
       "      <th>ROI</th>\n",
       "    </tr>\n",
       "  </thead>\n",
       "  <tbody>\n",
       "    <tr>\n",
       "      <th>count</th>\n",
       "      <td>196553.000000</td>\n",
       "      <td>196553.000000</td>\n",
       "      <td>0.0</td>\n",
       "      <td>110110.000000</td>\n",
       "      <td>110110.000000</td>\n",
       "      <td>2591.000000</td>\n",
       "      <td>2591.000000</td>\n",
       "      <td>31707.000000</td>\n",
       "      <td>2.787400e+04</td>\n",
       "      <td>91699.000000</td>\n",
       "      <td>129667.000000</td>\n",
       "      <td>83852.000000</td>\n",
       "      <td>83852.000000</td>\n",
       "      <td>726.000000</td>\n",
       "    </tr>\n",
       "    <tr>\n",
       "      <th>mean</th>\n",
       "      <td>98276.000000</td>\n",
       "      <td>153006.227333</td>\n",
       "      <td>NaN</td>\n",
       "      <td>459.132685</td>\n",
       "      <td>222.728917</td>\n",
       "      <td>2.372057</td>\n",
       "      <td>2.204940</td>\n",
       "      <td>1.659760</td>\n",
       "      <td>1.481652e+07</td>\n",
       "      <td>1.199402</td>\n",
       "      <td>2.852067</td>\n",
       "      <td>37.564512</td>\n",
       "      <td>-52.123066</td>\n",
       "      <td>45.745037</td>\n",
       "    </tr>\n",
       "    <tr>\n",
       "      <th>std</th>\n",
       "      <td>56740.108067</td>\n",
       "      <td>90209.250941</td>\n",
       "      <td>NaN</td>\n",
       "      <td>594.982577</td>\n",
       "      <td>333.090722</td>\n",
       "      <td>12.173510</td>\n",
       "      <td>11.436955</td>\n",
       "      <td>1.201666</td>\n",
       "      <td>6.775937e+07</td>\n",
       "      <td>0.540099</td>\n",
       "      <td>9.100309</td>\n",
       "      <td>15.477102</td>\n",
       "      <td>70.049067</td>\n",
       "      <td>572.035638</td>\n",
       "    </tr>\n",
       "    <tr>\n",
       "      <th>min</th>\n",
       "      <td>0.000000</td>\n",
       "      <td>1.000000</td>\n",
       "      <td>NaN</td>\n",
       "      <td>1.000000</td>\n",
       "      <td>1.000000</td>\n",
       "      <td>1.000000</td>\n",
       "      <td>1.000000</td>\n",
       "      <td>1.000000</td>\n",
       "      <td>2.910000e+02</td>\n",
       "      <td>1.000000</td>\n",
       "      <td>1.000000</td>\n",
       "      <td>-50.942326</td>\n",
       "      <td>-159.497746</td>\n",
       "      <td>0.011111</td>\n",
       "    </tr>\n",
       "    <tr>\n",
       "      <th>25%</th>\n",
       "      <td>49138.000000</td>\n",
       "      <td>59850.000000</td>\n",
       "      <td>NaN</td>\n",
       "      <td>192.000000</td>\n",
       "      <td>70.000000</td>\n",
       "      <td>1.000000</td>\n",
       "      <td>1.000000</td>\n",
       "      <td>1.000000</td>\n",
       "      <td>5.000000e+05</td>\n",
       "      <td>1.000000</td>\n",
       "      <td>1.000000</td>\n",
       "      <td>34.052234</td>\n",
       "      <td>-111.940005</td>\n",
       "      <td>2.648879</td>\n",
       "    </tr>\n",
       "    <tr>\n",
       "      <th>50%</th>\n",
       "      <td>98276.000000</td>\n",
       "      <td>174539.000000</td>\n",
       "      <td>NaN</td>\n",
       "      <td>267.000000</td>\n",
       "      <td>105.000000</td>\n",
       "      <td>1.000000</td>\n",
       "      <td>1.000000</td>\n",
       "      <td>1.000000</td>\n",
       "      <td>2.564500e+06</td>\n",
       "      <td>1.000000</td>\n",
       "      <td>1.000000</td>\n",
       "      <td>39.768403</td>\n",
       "      <td>-77.036871</td>\n",
       "      <td>6.500497</td>\n",
       "    </tr>\n",
       "    <tr>\n",
       "      <th>75%</th>\n",
       "      <td>147414.000000</td>\n",
       "      <td>232655.000000</td>\n",
       "      <td>NaN</td>\n",
       "      <td>484.000000</td>\n",
       "      <td>232.000000</td>\n",
       "      <td>1.000000</td>\n",
       "      <td>1.000000</td>\n",
       "      <td>2.000000</td>\n",
       "      <td>1.100000e+07</td>\n",
       "      <td>1.000000</td>\n",
       "      <td>3.000000</td>\n",
       "      <td>45.421530</td>\n",
       "      <td>-0.127758</td>\n",
       "      <td>13.549900</td>\n",
       "    </tr>\n",
       "    <tr>\n",
       "      <th>max</th>\n",
       "      <td>196552.000000</td>\n",
       "      <td>286215.000000</td>\n",
       "      <td>NaN</td>\n",
       "      <td>18200.000000</td>\n",
       "      <td>9600.000000</td>\n",
       "      <td>478.000000</td>\n",
       "      <td>459.000000</td>\n",
       "      <td>15.000000</td>\n",
       "      <td>5.700000e+09</td>\n",
       "      <td>9.000000</td>\n",
       "      <td>1189.000000</td>\n",
       "      <td>77.553604</td>\n",
       "      <td>176.212549</td>\n",
       "      <td>13333.333333</td>\n",
       "    </tr>\n",
       "  </tbody>\n",
       "</table>\n",
       "</div>"
      ],
      "text/plain": [
       "        Unnamed: 0.1      entity_id  parent_id     logo_width    logo_height  \\\n",
       "count  196553.000000  196553.000000        0.0  110110.000000  110110.000000   \n",
       "mean    98276.000000  153006.227333        NaN     459.132685     222.728917   \n",
       "std     56740.108067   90209.250941        NaN     594.982577     333.090722   \n",
       "min         0.000000       1.000000        NaN       1.000000       1.000000   \n",
       "25%     49138.000000   59850.000000        NaN     192.000000      70.000000   \n",
       "50%     98276.000000  174539.000000        NaN     267.000000     105.000000   \n",
       "75%    147414.000000  232655.000000        NaN     484.000000     232.000000   \n",
       "max    196552.000000  286215.000000        NaN   18200.000000    9600.000000   \n",
       "\n",
       "       investment_rounds  invested_companies  funding_rounds  \\\n",
       "count        2591.000000         2591.000000    31707.000000   \n",
       "mean            2.372057            2.204940        1.659760   \n",
       "std            12.173510           11.436955        1.201666   \n",
       "min             1.000000            1.000000        1.000000   \n",
       "25%             1.000000            1.000000        1.000000   \n",
       "50%             1.000000            1.000000        1.000000   \n",
       "75%             1.000000            1.000000        2.000000   \n",
       "max           478.000000          459.000000       15.000000   \n",
       "\n",
       "       funding_total_usd    milestones  relationships           lat  \\\n",
       "count       2.787400e+04  91699.000000  129667.000000  83852.000000   \n",
       "mean        1.481652e+07      1.199402       2.852067     37.564512   \n",
       "std         6.775937e+07      0.540099       9.100309     15.477102   \n",
       "min         2.910000e+02      1.000000       1.000000    -50.942326   \n",
       "25%         5.000000e+05      1.000000       1.000000     34.052234   \n",
       "50%         2.564500e+06      1.000000       1.000000     39.768403   \n",
       "75%         1.100000e+07      1.000000       3.000000     45.421530   \n",
       "max         5.700000e+09      9.000000    1189.000000     77.553604   \n",
       "\n",
       "                lng           ROI  \n",
       "count  83852.000000    726.000000  \n",
       "mean     -52.123066     45.745037  \n",
       "std       70.049067    572.035638  \n",
       "min     -159.497746      0.011111  \n",
       "25%     -111.940005      2.648879  \n",
       "50%      -77.036871      6.500497  \n",
       "75%       -0.127758     13.549900  \n",
       "max      176.212549  13333.333333  "
      ]
     },
     "execution_count": 6,
     "metadata": {},
     "output_type": "execute_result"
    }
   ],
   "source": [
    "company.describe()"
   ]
  },
  {
   "cell_type": "code",
   "execution_count": 7,
   "id": "4025ae69",
   "metadata": {},
   "outputs": [
    {
     "name": "stdout",
     "output_type": "stream",
     "text": [
      "<class 'pandas.core.frame.DataFrame'>\n",
      "RangeIndex: 196553 entries, 0 to 196552\n",
      "Data columns (total 44 columns):\n",
      " #   Column               Non-Null Count   Dtype  \n",
      "---  ------               --------------   -----  \n",
      " 0   id                   196553 non-null  object \n",
      " 1   Unnamed: 0.1         196553 non-null  int64  \n",
      " 2   entity_type          196553 non-null  object \n",
      " 3   entity_id            196553 non-null  int64  \n",
      " 4   parent_id            0 non-null       float64\n",
      " 5   name                 196531 non-null  object \n",
      " 6   normalized_name      196527 non-null  object \n",
      " 7   permalink            196553 non-null  object \n",
      " 8   category_code        123186 non-null  object \n",
      " 9   status               196553 non-null  object \n",
      " 10  founded_at           91227 non-null   object \n",
      " 11  closed_at            2620 non-null    object \n",
      " 12  domain               126545 non-null  object \n",
      " 13  homepage_url         126545 non-null  object \n",
      " 14  twitter_username     80591 non-null   object \n",
      " 15  logo_url             110110 non-null  object \n",
      " 16  logo_width           110110 non-null  float64\n",
      " 17  logo_height          110110 non-null  float64\n",
      " 18  short_description    7131 non-null    object \n",
      " 19  description          92048 non-null   object \n",
      " 20  overview             126971 non-null  object \n",
      " 21  tag_list             81452 non-null   object \n",
      " 22  country_code         87990 non-null   object \n",
      " 23  state_code           50903 non-null   object \n",
      " 24  city                 83890 non-null   object \n",
      " 25  region               196553 non-null  object \n",
      " 26  first_investment_at  2583 non-null    object \n",
      " 27  last_investment_at   2583 non-null    object \n",
      " 28  investment_rounds    2591 non-null    float64\n",
      " 29  invested_companies   2591 non-null    float64\n",
      " 30  first_funding_at     31507 non-null   object \n",
      " 31  last_funding_at      31507 non-null   object \n",
      " 32  funding_rounds       31707 non-null   float64\n",
      " 33  funding_total_usd    27874 non-null   float64\n",
      " 34  first_milestone_at   91699 non-null   object \n",
      " 35  last_milestone_at    91699 non-null   object \n",
      " 36  milestones           91699 non-null   float64\n",
      " 37  relationships        129667 non-null  float64\n",
      " 38  created_by           155533 non-null  object \n",
      " 39  created_at           196553 non-null  object \n",
      " 40  updated_at           196553 non-null  object \n",
      " 41  lat                  83852 non-null   float64\n",
      " 42  lng                  83852 non-null   float64\n",
      " 43  ROI                  726 non-null     float64\n",
      "dtypes: float64(12), int64(2), object(30)\n",
      "memory usage: 66.0+ MB\n"
     ]
    }
   ],
   "source": [
    "company.info()"
   ]
  },
  {
   "cell_type": "code",
   "execution_count": 8,
   "id": "7ae80249",
   "metadata": {},
   "outputs": [
    {
     "data": {
      "text/plain": [
       "Index(['id', 'Unnamed: 0.1', 'entity_type', 'entity_id', 'parent_id', 'name',\n",
       "       'normalized_name', 'permalink', 'category_code', 'status', 'founded_at',\n",
       "       'closed_at', 'domain', 'homepage_url', 'twitter_username', 'logo_url',\n",
       "       'logo_width', 'logo_height', 'short_description', 'description',\n",
       "       'overview', 'tag_list', 'country_code', 'state_code', 'city', 'region',\n",
       "       'first_investment_at', 'last_investment_at', 'investment_rounds',\n",
       "       'invested_companies', 'first_funding_at', 'last_funding_at',\n",
       "       'funding_rounds', 'funding_total_usd', 'first_milestone_at',\n",
       "       'last_milestone_at', 'milestones', 'relationships', 'created_by',\n",
       "       'created_at', 'updated_at', 'lat', 'lng', 'ROI'],\n",
       "      dtype='object')"
      ]
     },
     "execution_count": 8,
     "metadata": {},
     "output_type": "execute_result"
    }
   ],
   "source": [
    "#columns in dataset\n",
    "company.columns"
   ]
  },
  {
   "cell_type": "markdown",
   "id": "c57e75f1",
   "metadata": {},
   "source": [
    "## A. Data Cleaning\n",
    "    1. Delete irrelevant & redundant information\n",
    "    2. Remove noise or unreliable data (missing values and outliers)\n",
    "    \n",
    "### 1. Delete irrelevant and redundant information\n",
    "     a. Delete 'region','city','state_code' as they provide too much of granularity.\n",
    "     b. Delete 'id', 'Unnamed: 0.1', 'entity_type', 'entity_id', 'parent_id', 'created_by',\n",
    "       'created_at', 'updated_at' as they are redundant.\n",
    "     c. Delete 'domain', 'homepage_url', 'twitter_username', 'logo_url', 'logo_width', 'logo_height',           \n",
    "        'short_description', 'description', 'overview','tag_list', 'name', 'normalized_name', 'permalink',    \n",
    "        'invested_companies' as they are irrelevant features.\n",
    "     d. Delete duplicate values if any.\n",
    "     e. Delete those which has more than 98% of null values.\n",
    "     \n",
    "### 2. Remove noise or unreliable data (missing values and outliers)\n",
    "     a. Delete instances with missing values for 'status', 'country_code', 'category_code' and 'founded_at'.\n",
    "     b. Delete outliers for 'funding_total_usd' and 'funding_rounds'.\n",
    "     c. Delete contradictory (mutually opposed or inconsistent data)."
   ]
  },
  {
   "cell_type": "markdown",
   "id": "50ea69df",
   "metadata": {},
   "source": [
    "#### 1.a. Delete 'region','city' ,'state_code' as they provide too much of granularity.    "
   ]
  },
  {
   "cell_type": "code",
   "execution_count": 9,
   "id": "42b1ed19",
   "metadata": {},
   "outputs": [],
   "source": [
    "company.drop(['region','city','state_code'], axis=1,inplace=True)"
   ]
  },
  {
   "cell_type": "markdown",
   "id": "ea09deb9",
   "metadata": {},
   "source": [
    "#### 1.b. Delete 'id', 'Unnamed: 0.1', 'entity_type', 'entity_id', 'parent_id', 'created_by', 'created_at', 'updated_at' as they are redundant."
   ]
  },
  {
   "cell_type": "code",
   "execution_count": 10,
   "id": "6c2a19ba",
   "metadata": {},
   "outputs": [],
   "source": [
    "company.drop(['id', 'Unnamed: 0.1', 'entity_type', 'entity_id', 'parent_id', 'created_by', 'created_at', 'updated_at'], axis=1,inplace=True)"
   ]
  },
  {
   "cell_type": "markdown",
   "id": "bce200c5",
   "metadata": {},
   "source": [
    "#### 1.c. Delete 'domain', 'homepage_url', 'twitter_username', 'logo_url', 'logo_width', 'logo_height',  'short_description',    'description',  'overview','tag_list', 'name', 'normalized_name', 'permalink', 'invested_companies' as they are irrelevant features."
   ]
  },
  {
   "cell_type": "code",
   "execution_count": 11,
   "id": "83c5ac61",
   "metadata": {},
   "outputs": [],
   "source": [
    "company.drop([ 'domain', 'homepage_url', 'twitter_username', 'logo_url', 'logo_width', 'logo_height', 'short_description', 'description', 'overview','tag_list', 'name', 'normalized_name', 'permalink', 'invested_companies'], axis=1,inplace=True)"
   ]
  },
  {
   "cell_type": "code",
   "execution_count": 12,
   "id": "f1f4ffe0",
   "metadata": {},
   "outputs": [
    {
     "data": {
      "text/plain": [
       "True"
      ]
     },
     "execution_count": 12,
     "metadata": {},
     "output_type": "execute_result"
    }
   ],
   "source": [
    "# Delete duplicate values if found any.\n",
    "company.duplicated().any()"
   ]
  },
  {
   "cell_type": "code",
   "execution_count": 13,
   "id": "93c94e24",
   "metadata": {},
   "outputs": [
    {
     "data": {
      "text/plain": [
       "87089"
      ]
     },
     "execution_count": 13,
     "metadata": {},
     "output_type": "execute_result"
    }
   ],
   "source": [
    "# Since, there are duplicate values in the dataset let's see how of duplicate values are present.\n",
    "company.duplicated().sum()"
   ]
  },
  {
   "cell_type": "code",
   "execution_count": 14,
   "id": "b6432182",
   "metadata": {},
   "outputs": [],
   "source": [
    "# Let's delete all the duplicate values\n",
    "company.drop_duplicates(inplace=True)"
   ]
  },
  {
   "cell_type": "code",
   "execution_count": 15,
   "id": "b9158ca3",
   "metadata": {},
   "outputs": [
    {
     "data": {
      "text/plain": [
       "False"
      ]
     },
     "execution_count": 15,
     "metadata": {},
     "output_type": "execute_result"
    }
   ],
   "source": [
    "# check if any left\n",
    "company.duplicated().any()"
   ]
  },
  {
   "cell_type": "markdown",
   "id": "a8e6303f",
   "metadata": {},
   "source": [
    "#### 1.e. Delete those which has more than 98% of null values."
   ]
  },
  {
   "cell_type": "code",
   "execution_count": 16,
   "id": "6fd71969",
   "metadata": {},
   "outputs": [
    {
     "name": "stdout",
     "output_type": "stream",
     "text": [
      "percentage of nan in each columns:\n"
     ]
    },
    {
     "data": {
      "text/plain": [
       "status                  0.000000\n",
       "category_code          11.172623\n",
       "country_code           22.719798\n",
       "founded_at             24.586165\n",
       "lat                    25.910802\n",
       "lng                    25.910802\n",
       "relationships          31.428598\n",
       "milestones             48.740225\n",
       "last_milestone_at      48.740225\n",
       "first_milestone_at     48.740225\n",
       "funding_rounds         71.067200\n",
       "last_funding_at        71.248995\n",
       "first_funding_at       71.248995\n",
       "funding_total_usd      74.546883\n",
       "closed_at              97.607433\n",
       "investment_rounds      97.943616\n",
       "last_investment_at     97.947270\n",
       "first_investment_at    97.947270\n",
       "ROI                    99.336768\n",
       "dtype: float64"
      ]
     },
     "execution_count": 16,
     "metadata": {},
     "output_type": "execute_result"
    }
   ],
   "source": [
    "# # Since we can see only nan values so let's check how much of ros has nan values.\n",
    "percent_missing = company. isnull(). sum() * 100 / len(company)\n",
    "print(\"percentage of nan in each columns:\")\n",
    "percent_missing.sort_values()"
   ]
  },
  {
   "cell_type": "code",
   "execution_count": 17,
   "id": "9f412ade",
   "metadata": {},
   "outputs": [],
   "source": [
    "# # Since we can see it has more than 96% of null values, it would not make sense to impute these data. So, lets drop it.\n",
    "company.drop(['first_investment_at','last_investment_at','investment_rounds','ROI'], axis=1,inplace=True)"
   ]
  },
  {
   "cell_type": "markdown",
   "id": "e33fdea6",
   "metadata": {},
   "source": [
    "#### 2.a. Delete instances with missing values for 'status', 'country_code', 'category_code' and 'founded_at'.\n",
    "    (Since these are the type of data where adding value via imputation will create wrong pattern only)"
   ]
  },
  {
   "cell_type": "code",
   "execution_count": 18,
   "id": "da3c9ed3",
   "metadata": {},
   "outputs": [
    {
     "data": {
      "text/plain": [
       "category_code          12230\n",
       "status                     0\n",
       "founded_at             26913\n",
       "closed_at             106845\n",
       "country_code           24870\n",
       "first_funding_at       77992\n",
       "last_funding_at        77992\n",
       "funding_rounds         77793\n",
       "funding_total_usd      81602\n",
       "first_milestone_at     53353\n",
       "last_milestone_at      53353\n",
       "milestones             53353\n",
       "relationships          34403\n",
       "lat                    28363\n",
       "lng                    28363\n",
       "dtype: int64"
      ]
     },
     "execution_count": 18,
     "metadata": {},
     "output_type": "execute_result"
    }
   ],
   "source": [
    "#lets check number of missing values in each rows\n",
    "company.isna().sum()"
   ]
  },
  {
   "cell_type": "code",
   "execution_count": 19,
   "id": "0ccaeede",
   "metadata": {},
   "outputs": [],
   "source": [
    "#Delete instances with missing values for 'status', 'country_code', 'category_code' and 'founded_at'.\n",
    "company.dropna(subset=['status', 'country_code', 'category_code','founded_at'],inplace=True)"
   ]
  },
  {
   "cell_type": "code",
   "execution_count": 20,
   "id": "1b00c8a1",
   "metadata": {},
   "outputs": [
    {
     "data": {
      "text/plain": [
       "category_code             0\n",
       "status                    0\n",
       "founded_at                0\n",
       "closed_at             61924\n",
       "country_code              0\n",
       "first_funding_at      40836\n",
       "last_funding_at       40836\n",
       "funding_rounds        40696\n",
       "funding_total_usd     43118\n",
       "first_milestone_at    28341\n",
       "last_milestone_at     28341\n",
       "milestones            28341\n",
       "relationships         15290\n",
       "lat                    2374\n",
       "lng                    2374\n",
       "dtype: int64"
      ]
     },
     "execution_count": 20,
     "metadata": {},
     "output_type": "execute_result"
    }
   ],
   "source": [
    "# Since we can see only nan values so et's check how much of rows has nan values.\n",
    "company.isna().sum()"
   ]
  },
  {
   "cell_type": "code",
   "execution_count": 21,
   "id": "1b5349b3",
   "metadata": {},
   "outputs": [
    {
     "data": {
      "text/plain": [
       "(63585, 15)"
      ]
     },
     "execution_count": 21,
     "metadata": {},
     "output_type": "execute_result"
    }
   ],
   "source": [
    "company.shape"
   ]
  },
  {
   "cell_type": "markdown",
   "id": "40f91fb3",
   "metadata": {},
   "source": [
    "#### 2.b. Delete outliers for 'funding_total_usd' and 'funding_rounds'."
   ]
  },
  {
   "cell_type": "code",
   "execution_count": 22,
   "id": "c063ea50",
   "metadata": {},
   "outputs": [
    {
     "data": {
      "text/plain": [
       "count    2.046700e+04\n",
       "mean     1.582132e+07\n",
       "std      6.990693e+07\n",
       "min      2.910000e+02\n",
       "25%      5.110380e+05\n",
       "50%      2.725875e+06\n",
       "75%      1.200000e+07\n",
       "max      5.700000e+09\n",
       "Name: funding_total_usd, dtype: float64"
      ]
     },
     "execution_count": 22,
     "metadata": {},
     "output_type": "execute_result"
    },
    {
     "data": {
      "image/png": "[encoded data removed]",
      "text/plain": [
       "<Figure size 432x288 with 1 Axes>"
      ]
     },
     "metadata": {},
     "output_type": "display_data"
    }
   ],
   "source": [
    "#'funding_total_usd' \n",
    "#check outliers for funding_total_usd column\n",
    "sns.boxplot(x=company[\"funding_total_usd\"])\n",
    "company.funding_total_usd.describe()"
   ]
  },
  {
   "cell_type": "code",
   "execution_count": 23,
   "id": "b193426a",
   "metadata": {},
   "outputs": [
    {
     "data": {
      "text/plain": [
       "<AxesSubplot:xlabel='funding_rounds'>"
      ]
     },
     "execution_count": 23,
     "metadata": {},
     "output_type": "execute_result"
    },
    {
     "data": {
      "image/png": "[encoded data removed]",
      "text/plain": [
       "<Figure size 432x288 with 1 Axes>"
      ]
     },
     "metadata": {},
     "output_type": "display_data"
    }
   ],
   "source": [
    "# 'funding_rounds'\n",
    "#check outliers for funding_rounds column\n",
    "sns.boxplot(x=company[\"funding_rounds\"])"
   ]
  },
  {
   "cell_type": "markdown",
   "id": "af1c6bc3",
   "metadata": {},
   "source": [
    "### Summary:\n",
    "If you can see the outlier in both 'funding_total_usd' and 'funding_rounds'. So, let's find them and drop it.\n",
    "\n",
    "    1. Find the IQR (Interquartile Range)\n",
    "    2. Find the upper and lower limit\n",
    "    3. Find outliers\n",
    "    4. Drop them\n",
    "    5. Compare the plots after trimming "
   ]
  },
  {
   "cell_type": "markdown",
   "id": "45ba7fa1",
   "metadata": {},
   "source": [
    "#### 2.b.1. Find the IQR"
   ]
  },
  {
   "cell_type": "code",
   "execution_count": 24,
   "id": "affbcc62",
   "metadata": {},
   "outputs": [
    {
     "name": "stdout",
     "output_type": "stream",
     "text": [
      "IQR of funding_total_usd is: 11488962.0\n",
      "\n",
      "IQR of funding_rounds is: 1.0\n"
     ]
    }
   ],
   "source": [
    "# For funding_total_usd\n",
    "#Type your code here!\n",
    "Q1_FTU = company.funding_total_usd.quantile(0.25)\n",
    "Q3_FTU = company.funding_total_usd.quantile(0.75)\n",
    "Q1_FTU, Q3_FTU\n",
    "IQR_FTU = Q3_FTU - Q1_FTU\n",
    "print(f\"IQR of funding_total_usd is: {IQR_FTU}\\n\")\n",
    "\n",
    "# For funding_rounds\n",
    "#Type your code here!\n",
    "Q1_FR = company.funding_rounds.quantile(0.25)\n",
    "Q3_FR = company.funding_rounds.quantile(0.75)\n",
    "Q1_FR, Q3_FR\n",
    "IQR_FR = Q3_FR - Q1_FR\n",
    "print(f\"IQR of funding_rounds is: {IQR_FR}\")"
   ]
  },
  {
   "cell_type": "markdown",
   "id": "2332a6bd",
   "metadata": {},
   "source": [
    "#### 2.b.1. Find the Upper and Lower limit"
   ]
  },
  {
   "cell_type": "code",
   "execution_count": 25,
   "id": "4fd4f7b8",
   "metadata": {},
   "outputs": [
    {
     "name": "stdout",
     "output_type": "stream",
     "text": [
      "funding_total_usd\n",
      "lower limit is: -16722405.0\n",
      "upper limit is: 29233443.0\n",
      "\n",
      "funding_total_usd\n",
      "lower limit is: -0.5\n",
      "upper limit is: 3.5\n"
     ]
    }
   ],
   "source": [
    "# For funding_total_usd\n",
    "lower_limit_FTU = Q1_FTU - 1.5*IQR_FTU\n",
    "upper_limit_FTU = Q3_FTU + 1.5*IQR_FTU\n",
    "print(\"funding_total_usd\")\n",
    "print(f\"lower limit is: {lower_limit_FTU}\")\n",
    "print(f\"upper limit is: {upper_limit_FTU}\\n\")\n",
    "\n",
    "\n",
    "# For funding_rounds\n",
    "lower_limit_FR = Q1_FR - 1.5*IQR_FR\n",
    "upper_limit_FR = Q3_FR + 1.5*IQR_FR\n",
    "print(\"funding_total_usd\")\n",
    "print(f\"lower limit is: {lower_limit_FR}\")\n",
    "print(f\"upper limit is: {upper_limit_FR}\")"
   ]
  },
  {
   "cell_type": "markdown",
   "id": "75777831",
   "metadata": {},
   "source": [
    "#### 2.b.1.  Find outliers"
   ]
  },
  {
   "cell_type": "code",
   "execution_count": 26,
   "id": "50048b04",
   "metadata": {},
   "outputs": [
    {
     "name": "stdout",
     "output_type": "stream",
     "text": [
      "(2561, 15)\n",
      "(2182, 15)\n"
     ]
    }
   ],
   "source": [
    "# For funding_total_usd\n",
    "funding_total_usd_outliers=company[(company.funding_total_usd<lower_limit_FTU)|(company.funding_total_usd>upper_limit_FTU)]\n",
    "print(funding_total_usd_outliers.shape)\n",
    "\n",
    "# For funding_rounds\n",
    "funding_rounds_outliers=company[(company.funding_rounds<lower_limit_FR)|(company.funding_rounds>upper_limit_FR)]\n",
    "print(funding_rounds_outliers.shape)"
   ]
  },
  {
   "cell_type": "markdown",
   "id": "b84a3870",
   "metadata": {},
   "source": [
    "#### 2.b.1. Drop the outliers"
   ]
  },
  {
   "cell_type": "code",
   "execution_count": 27,
   "id": "14c51bb9",
   "metadata": {},
   "outputs": [
    {
     "data": {
      "text/plain": [
       "(59987, 15)"
      ]
     },
     "execution_count": 27,
     "metadata": {},
     "output_type": "execute_result"
    }
   ],
   "source": [
    "# For funding_total_usd\n",
    "company.drop(company[(company.funding_total_usd<lower_limit_FTU)|(company.funding_total_usd>upper_limit_FTU)].index,inplace=True)\n",
    "\n",
    "\n",
    "# For funding_rounds\n",
    "company.drop(company[(company.funding_rounds<lower_limit_FR)|(company.funding_rounds>upper_limit_FR)].index,inplace=True)\n",
    "company.shape"
   ]
  },
  {
   "cell_type": "code",
   "execution_count": 28,
   "id": "a4d5bd2c",
   "metadata": {},
   "outputs": [
    {
     "data": {
      "text/plain": [
       "<AxesSubplot:xlabel='funding_total_usd'>"
      ]
     },
     "execution_count": 28,
     "metadata": {},
     "output_type": "execute_result"
    },
    {
     "data": {
      "image/png": "[encoded data removed]",
      "text/plain": [
       "<Figure size 432x288 with 1 Axes>"
      ]
     },
     "metadata": {},
     "output_type": "display_data"
    }
   ],
   "source": [
    "#'funding_total_usd' \n",
    "#check outliers for funding_total_usd column\n",
    "sns.boxplot(x=company[\"funding_total_usd\"])\n"
   ]
  },
  {
   "cell_type": "code",
   "execution_count": 29,
   "id": "f8f11f4a",
   "metadata": {},
   "outputs": [
    {
     "data": {
      "text/plain": [
       "<AxesSubplot:xlabel='funding_rounds'>"
      ]
     },
     "execution_count": 29,
     "metadata": {},
     "output_type": "execute_result"
    },
    {
     "data": {
      "image/png": "[encoded data removed]",
      "text/plain": [
       "<Figure size 432x288 with 1 Axes>"
      ]
     },
     "metadata": {},
     "output_type": "display_data"
    }
   ],
   "source": [
    "# 'funding_rounds'\n",
    "#check outliers for funding_rounds column\n",
    "sns.boxplot(x=company[\"funding_rounds\"])"
   ]
  },
  {
   "cell_type": "code",
   "execution_count": 30,
   "id": "0eec8edd",
   "metadata": {},
   "outputs": [
    {
     "data": {
      "text/plain": [
       "<AxesSubplot:xlabel='relationships'>"
      ]
     },
     "execution_count": 30,
     "metadata": {},
     "output_type": "execute_result"
    },
    {
     "data": {
      "image/png": "[encoded data removed]",
      "text/plain": [
       "<Figure size 432x288 with 1 Axes>"
      ]
     },
     "metadata": {},
     "output_type": "display_data"
    }
   ],
   "source": [
    "sns.boxplot(x=company[\"relationships\"])"
   ]
  },
  {
   "cell_type": "code",
   "execution_count": 31,
   "id": "e112e71c",
   "metadata": {},
   "outputs": [
    {
     "name": "stdout",
     "output_type": "stream",
     "text": [
      "IQR of relationships is: 3.0\n"
     ]
    }
   ],
   "source": [
    "Q1_relationships = company.relationships.quantile(0.25)\n",
    "Q3_relationships = company.relationships.quantile(0.75)\n",
    "Q1_relationships, Q3_relationships\n",
    "IQR_relationships = Q3_relationships - Q1_relationships\n",
    "print(f\"IQR of relationships is: {IQR_relationships}\")"
   ]
  },
  {
   "cell_type": "code",
   "execution_count": 32,
   "id": "9d2d8855",
   "metadata": {},
   "outputs": [
    {
     "name": "stdout",
     "output_type": "stream",
     "text": [
      "lower limit of relationships is: -3.5 and upper limit is: 8.5\n"
     ]
    }
   ],
   "source": [
    "lower_limit_relationships = Q1_relationships - 1.5*IQR_relationships\n",
    "upper_limit_relationships = Q3_relationships + 1.5*IQR_relationships\n",
    "print(f\"lower limit of relationships is: {lower_limit_relationships} and upper limit is: {upper_limit_relationships}\")"
   ]
  },
  {
   "cell_type": "code",
   "execution_count": 33,
   "id": "db0cd8e7",
   "metadata": {},
   "outputs": [
    {
     "name": "stdout",
     "output_type": "stream",
     "text": [
      "(59987, 15)\n",
      "(56580, 15)\n"
     ]
    }
   ],
   "source": [
    "#check outliers for relationships column\n",
    "company.relationships_outliers=company[(company.relationships<lower_limit_relationships)&(company.relationships>upper_limit_relationships)]\n",
    "print(company.shape)\n",
    "#Drop the outliers\n",
    "company.drop(company[(company.relationships<lower_limit_relationships)|(company.relationships>upper_limit_relationships)].index,inplace=True)\n",
    "print(company.shape)"
   ]
  },
  {
   "cell_type": "code",
   "execution_count": 34,
   "id": "c3ab0a94",
   "metadata": {},
   "outputs": [
    {
     "data": {
      "text/plain": [
       "1.0    13633\n",
       "2.0    10701\n",
       "3.0     6931\n",
       "4.0     4164\n",
       "5.0     2532\n",
       "6.0     1661\n",
       "7.0     1075\n",
       "8.0      767\n",
       "Name: relationships, dtype: int64"
      ]
     },
     "execution_count": 34,
     "metadata": {},
     "output_type": "execute_result"
    },
    {
     "data": {
      "image/png": "[encoded data removed]",
      "text/plain": [
       "<Figure size 432x288 with 1 Axes>"
      ]
     },
     "metadata": {},
     "output_type": "display_data"
    }
   ],
   "source": [
    "sns.boxplot(x=company[\"relationships\"])\n",
    "company.relationships.value_counts()"
   ]
  },
  {
   "cell_type": "code",
   "execution_count": 35,
   "id": "9a2f9264",
   "metadata": {},
   "outputs": [
    {
     "data": {
      "text/plain": [
       "Index(['category_code', 'status', 'founded_at', 'closed_at', 'country_code',\n",
       "       'first_funding_at', 'last_funding_at', 'funding_rounds',\n",
       "       'funding_total_usd', 'first_milestone_at', 'last_milestone_at',\n",
       "       'milestones', 'relationships', 'lat', 'lng'],\n",
       "      dtype='object')"
      ]
     },
     "execution_count": 35,
     "metadata": {},
     "output_type": "execute_result"
    }
   ],
   "source": [
    "company.columns"
   ]
  },
  {
   "cell_type": "code",
   "execution_count": 36,
   "id": "bb75c5ba",
   "metadata": {},
   "outputs": [
    {
     "data": {
      "text/plain": [
       "category_code          object\n",
       "status                 object\n",
       "founded_at             object\n",
       "closed_at              object\n",
       "country_code           object\n",
       "first_funding_at       object\n",
       "last_funding_at        object\n",
       "funding_rounds        float64\n",
       "funding_total_usd     float64\n",
       "first_milestone_at     object\n",
       "last_milestone_at      object\n",
       "milestones            float64\n",
       "relationships         float64\n",
       "lat                   float64\n",
       "lng                   float64\n",
       "dtype: object"
      ]
     },
     "execution_count": 36,
     "metadata": {},
     "output_type": "execute_result"
    }
   ],
   "source": [
    "company.dtypes"
   ]
  },
  {
   "cell_type": "code",
   "execution_count": 37,
   "id": "a4376361",
   "metadata": {},
   "outputs": [
    {
     "data": {
      "text/plain": [
       "1.0    13633\n",
       "2.0    10701\n",
       "3.0     6931\n",
       "4.0     4164\n",
       "5.0     2532\n",
       "6.0     1661\n",
       "7.0     1075\n",
       "8.0      767\n",
       "Name: relationships, dtype: int64"
      ]
     },
     "execution_count": 37,
     "metadata": {},
     "output_type": "execute_result"
    }
   ],
   "source": [
    "company.relationships.value_counts()"
   ]
  },
  {
   "cell_type": "markdown",
   "id": "d1446040",
   "metadata": {},
   "source": [
    "#### 2.c. Delete contradictory (mutually opposed or inconsistent data)."
   ]
  },
  {
   "cell_type": "code",
   "execution_count": 38,
   "id": "ff8bb760",
   "metadata": {},
   "outputs": [],
   "source": [
    "# Since we have not imputed the datasets in closed_at yet, we will check it later on."
   ]
  },
  {
   "cell_type": "markdown",
   "id": "5aca7618",
   "metadata": {},
   "source": [
    "# B. Date Transformation\n",
    "    It can be divided into two successive phases.\n",
    "   ## 1. Changes in original data\n",
    "        a. Convert founded_at, closed_at, first_funded_at, last_funding_at, first_milestone_at ,\n",
    "           last_milestone_at to years.\n",
    "        b. Generalize the categorical data i.e. category_code, status and category_code.\n",
    "   ## 2. Create new variables\n",
    "        a. Create new feature isClosed from closed_at and status.\n",
    "        b. Create new feature 'active_days'"
   ]
  },
  {
   "cell_type": "markdown",
   "id": "0811a7c6",
   "metadata": {},
   "source": [
    "#### 1.a. Convert founded_at, closed_at, first_funded_at, last_funding_at, first_milestone_at , last_milestone_at to years."
   ]
  },
  {
   "cell_type": "code",
   "execution_count": 39,
   "id": "b8c23382",
   "metadata": {},
   "outputs": [
    {
     "data": {
      "text/plain": [
       "category_code          object\n",
       "status                 object\n",
       "founded_at              int64\n",
       "closed_at             float64\n",
       "country_code           object\n",
       "first_funding_at      float64\n",
       "last_funding_at       float64\n",
       "funding_rounds        float64\n",
       "funding_total_usd     float64\n",
       "first_milestone_at    float64\n",
       "last_milestone_at     float64\n",
       "milestones            float64\n",
       "relationships         float64\n",
       "lat                   float64\n",
       "lng                   float64\n",
       "dtype: object"
      ]
     },
     "execution_count": 39,
     "metadata": {},
     "output_type": "execute_result"
    }
   ],
   "source": [
    "# For founded_at\n",
    "company['founded_at']=pd.to_datetime(company['founded_at'], format='%Y-%m-%d').dt.year\n",
    "\n",
    "# closed_at\n",
    "company['closed_at']=pd.to_datetime(company['closed_at'], format='%Y-%m-%d').dt.year\n",
    "\n",
    "# first_funding_at\n",
    "company['first_funding_at']=pd.to_datetime(company['first_funding_at'], format='%Y-%m-%d').dt.year\n",
    "\n",
    "# last_funding_at\n",
    "company['last_funding_at']=pd.to_datetime(company['last_funding_at'], format='%Y-%m-%d').dt.year\n",
    "\n",
    "# # first_milestone_at\n",
    "company['first_milestone_at']=pd.to_datetime(company['first_milestone_at'], format='%Y-%m-%d').dt.year\n",
    "\n",
    "\n",
    "# # last_milestone_at\n",
    "company['last_milestone_at']=pd.to_datetime(company['last_milestone_at'], format='%Y-%m-%d').dt.year\n",
    "\n",
    "company.dtypes"
   ]
  },
  {
   "cell_type": "markdown",
   "id": "b2f00cad",
   "metadata": {},
   "source": [
    " #### 1.b. Generalize the categorical data i.e. category_code and  country_code "
   ]
  },
  {
   "cell_type": "code",
   "execution_count": 40,
   "id": "f9ae0b91",
   "metadata": {},
   "outputs": [
    {
     "data": {
      "text/plain": [
       "array(['advertising', 'cleantech', 'games_video', 'software', 'mobile',\n",
       "       'network_hosting', 'consulting', 'finance', 'education', 'medical',\n",
       "       'manufacturing', 'web', 'enterprise', 'other', 'ecommerce',\n",
       "       'public_relations', 'hardware', 'search', 'analytics', 'news',\n",
       "       'government', 'security', 'biotech', 'photo_video', 'travel',\n",
       "       'health', 'semiconductor', 'social', 'legal', 'transportation',\n",
       "       'hospitality', 'sports', 'nonprofit', 'fashion', 'messaging',\n",
       "       'music', 'design', 'local', 'real_estate', 'automotive', 'pets',\n",
       "       'nanotech'], dtype=object)"
      ]
     },
     "execution_count": 40,
     "metadata": {},
     "output_type": "execute_result"
    }
   ],
   "source": [
    "# 1. category_code\n",
    "company.category_code.unique()"
   ]
  },
  {
   "cell_type": "code",
   "execution_count": 41,
   "id": "ca54a499",
   "metadata": {},
   "outputs": [
    {
     "data": {
      "text/plain": [
       "software            10222\n",
       "web                  7296\n",
       "ecommerce            4695\n",
       "other                4550\n",
       "mobile               3474\n",
       "advertising          3274\n",
       "consulting           2694\n",
       "games_video          2641\n",
       "enterprise           2201\n",
       "biotech              1899\n",
       "public_relations     1486\n",
       "hardware             1363\n",
       "network_hosting      1182\n",
       "education            1103\n",
       "search                940\n",
       "cleantech             744\n",
       "social                604\n",
       "health                579\n",
       "finance               576\n",
       "analytics             563\n",
       "security              550\n",
       "legal                 349\n",
       "medical               347\n",
       "semiconductor         323\n",
       "travel                307\n",
       "manufacturing         267\n",
       "fashion               266\n",
       "hospitality           257\n",
       "news                  253\n",
       "real_estate           214\n",
       "local                 195\n",
       "photo_video           188\n",
       "messaging             163\n",
       "sports                157\n",
       "music                 155\n",
       "transportation        123\n",
       "nonprofit             105\n",
       "design                104\n",
       "automotive             92\n",
       "pets                   32\n",
       "nanotech               30\n",
       "government             17\n",
       "Name: category_code, dtype: int64"
      ]
     },
     "execution_count": 41,
     "metadata": {},
     "output_type": "execute_result"
    }
   ],
   "source": [
    "# Since there are 42 categories, one-hot encoding which is going to create a lot of columns so\n",
    "# Lets Check the repetition of value in ascending order and keep the first 15 values and name \n",
    "# remaining one as other.\n",
    "company.category_code.value_counts()"
   ]
  },
  {
   "cell_type": "code",
   "execution_count": 42,
   "id": "959ea0e4",
   "metadata": {},
   "outputs": [],
   "source": [
    "#category_encoading\n",
    "category_others_index = company.category_code.value_counts()[15:].index\n",
    "company['category_code'] = company['category_code'].replace(to_replace=category_others_index,value='other')"
   ]
  },
  {
   "cell_type": "code",
   "execution_count": 43,
   "id": "d1fb9bd9",
   "metadata": {},
   "outputs": [
    {
     "name": "stdout",
     "output_type": "stream",
     "text": [
      "Unique no of category_code :  15\n"
     ]
    },
    {
     "data": {
      "text/plain": [
       "other               12110\n",
       "software            10222\n",
       "web                  7296\n",
       "ecommerce            4695\n",
       "mobile               3474\n",
       "advertising          3274\n",
       "consulting           2694\n",
       "games_video          2641\n",
       "enterprise           2201\n",
       "biotech              1899\n",
       "public_relations     1486\n",
       "hardware             1363\n",
       "network_hosting      1182\n",
       "education            1103\n",
       "search                940\n",
       "Name: category_code, dtype: int64"
      ]
     },
     "execution_count": 43,
     "metadata": {},
     "output_type": "execute_result"
    }
   ],
   "source": [
    "# Let's check if we've more than 15 columns\n",
    "print('Unique no of category_code : ',company['category_code'].nunique())\n",
    "company.category_code.value_counts()"
   ]
  },
  {
   "cell_type": "markdown",
   "id": "af711443",
   "metadata": {},
   "source": [
    "#### Let's encode 'country' column now."
   ]
  },
  {
   "cell_type": "code",
   "execution_count": 44,
   "id": "cae45161",
   "metadata": {},
   "outputs": [
    {
     "data": {
      "text/plain": [
       "array(['MAR', 'IND', 'USA', 'AUS', 'FRA', 'JPN', 'NLD', 'EGY', 'ISR',\n",
       "       'GBR', 'THA', 'AUT', 'IRL', 'SWE', 'DEU', 'BRA', 'FIN', 'RUS',\n",
       "       'SGP', 'MEX', 'CHN', 'ESP', 'ISL', 'KOR', 'TUR', 'DNK', 'PAK',\n",
       "       'HUN', 'CAN', 'POL', 'GRC', 'PRT', 'BLR', 'CSS', 'MKD', 'CHE',\n",
       "       'UKR', 'ITA', 'NZL', 'CZE', 'ARG', 'VNM', 'NOR', 'HRV', 'BEN',\n",
       "       'CHL', 'GHA', 'ZAF', 'MYS', 'EST', 'BEL', 'SVK', 'TWN', 'CRI',\n",
       "       'HKG', 'BGD', 'BOL', 'LBN', 'LUX', 'COL', 'PHL', 'ARE', 'IDN',\n",
       "       'ROM', 'ANT', 'NGA', 'LKA', 'SWZ', 'VGB', 'MLT', 'SAU', 'KEN',\n",
       "       'BGR', 'PER', 'LVA', 'CYP', 'LAO', 'NPL', 'MDA', 'CMR', 'UGA',\n",
       "       'TUN', 'URY', 'MUS', 'VEN', 'OMN', 'ECU', 'KWT', 'JOR', 'LTU',\n",
       "       'ALB', 'SVN', 'QAT', 'PST', 'REU', 'GTM', 'PCN', 'BHS', 'GEO',\n",
       "       'BWA', 'DZA', 'GRD', 'GIB', 'PAN', 'MTQ', 'PRI', 'BIH', 'DMA',\n",
       "       'BHR', 'SYC', 'SLE', 'TTO', 'VCT', 'ARA', 'BRB', 'NAM', 'SLV',\n",
       "       'AFG', 'BLZ', 'UZB', 'LIE', 'IRN', 'ARM', 'ATG', 'UMI', 'DOM',\n",
       "       'MDV', 'MMR', 'KAZ', 'JAM', 'GLP', 'IOT', 'MDG', 'VIR', 'AZE',\n",
       "       'TZA', 'ZWE', 'PRY', 'PRK', 'SMR', 'IRQ', 'BMU', 'NRU', 'ETH',\n",
       "       'BDI', 'CYM', 'SEN', 'NCL', 'CUB', 'FST', 'AGO', 'NFK', 'AND',\n",
       "       'MCO', 'ZMB', 'KGZ', 'YEM', 'BRN', 'HTI', 'SUR', 'SYR', 'SOM',\n",
       "       'RWA', 'CIV', 'SDN'], dtype=object)"
      ]
     },
     "execution_count": 44,
     "metadata": {},
     "output_type": "execute_result"
    }
   ],
   "source": [
    "# Since there are 161 categories, one-hot encoding which is going to create a lot of columns so\n",
    "# Lets Check the repetition of value in ascending order and keep the first 10 values and name \n",
    "# remaining one as other.\n",
    "company.country_code.unique()"
   ]
  },
  {
   "cell_type": "code",
   "execution_count": 45,
   "id": "da1d50de",
   "metadata": {},
   "outputs": [],
   "source": [
    "# Lets keep the country as same of it falls under above 10 otherwise let's replaceit with other.\n",
    "country_code_others_index = company['country_code'].value_counts()[9:].index\n",
    "company['country_code'] = company['country_code'].replace(to_replace=country_code_others_index,value='other')"
   ]
  },
  {
   "cell_type": "code",
   "execution_count": 46,
   "id": "eaf59404",
   "metadata": {},
   "outputs": [
    {
     "name": "stdout",
     "output_type": "stream",
     "text": [
      "Unique no of country_code :  10\n"
     ]
    },
    {
     "data": {
      "text/plain": [
       "USA      31132\n",
       "other    10080\n",
       "GBR       4796\n",
       "IND       2944\n",
       "CAN       2517\n",
       "DEU       1328\n",
       "FRA       1198\n",
       "AUS       1007\n",
       "ESP        861\n",
       "ISR        717\n",
       "Name: country_code, dtype: int64"
      ]
     },
     "execution_count": 46,
     "metadata": {},
     "output_type": "execute_result"
    }
   ],
   "source": [
    "# Let's check if we've more than 10 columns\n",
    "print('Unique no of country_code : ',company['country_code'].nunique())\n",
    "company.country_code.value_counts()"
   ]
  },
  {
   "cell_type": "markdown",
   "id": "c5c8d649",
   "metadata": {},
   "source": [
    "### 2. Create new variables¶\n",
    "    a. Create new feature isClosed from closed_at and status.\n",
    "    b. Create new feature 'active_days'"
   ]
  },
  {
   "cell_type": "markdown",
   "id": "c6514147",
   "metadata": {},
   "source": [
    "#### 2.a. Create new feature isClosed from closed_at and status.\n",
    "     - if the value in status is 'operating' or 'ipo', Let's put 1.\n",
    "     - Where as if the value is 'acquired' or 'closed', let's put 0."
   ]
  },
  {
   "cell_type": "code",
   "execution_count": 47,
   "id": "1dcc80f1",
   "metadata": {},
   "outputs": [
    {
     "data": {
      "text/html": [
       "<div>\n",
       "<style scoped>\n",
       "    .dataframe tbody tr th:only-of-type {\n",
       "        vertical-align: middle;\n",
       "    }\n",
       "\n",
       "    .dataframe tbody tr th {\n",
       "        vertical-align: top;\n",
       "    }\n",
       "\n",
       "    .dataframe thead th {\n",
       "        text-align: right;\n",
       "    }\n",
       "</style>\n",
       "<table border=\"1\" class=\"dataframe\">\n",
       "  <thead>\n",
       "    <tr style=\"text-align: right;\">\n",
       "      <th></th>\n",
       "      <th>category_code</th>\n",
       "      <th>status</th>\n",
       "      <th>founded_at</th>\n",
       "      <th>closed_at</th>\n",
       "      <th>country_code</th>\n",
       "      <th>first_funding_at</th>\n",
       "      <th>last_funding_at</th>\n",
       "      <th>funding_rounds</th>\n",
       "      <th>funding_total_usd</th>\n",
       "      <th>first_milestone_at</th>\n",
       "      <th>last_milestone_at</th>\n",
       "      <th>milestones</th>\n",
       "      <th>relationships</th>\n",
       "      <th>lat</th>\n",
       "      <th>lng</th>\n",
       "      <th>isClosed</th>\n",
       "    </tr>\n",
       "  </thead>\n",
       "  <tbody>\n",
       "    <tr>\n",
       "      <th>5</th>\n",
       "      <td>advertising</td>\n",
       "      <td>operating</td>\n",
       "      <td>2007</td>\n",
       "      <td>NaN</td>\n",
       "      <td>other</td>\n",
       "      <td>NaN</td>\n",
       "      <td>NaN</td>\n",
       "      <td>NaN</td>\n",
       "      <td>NaN</td>\n",
       "      <td>NaN</td>\n",
       "      <td>NaN</td>\n",
       "      <td>NaN</td>\n",
       "      <td>2.0</td>\n",
       "      <td>30.427755</td>\n",
       "      <td>-9.598107</td>\n",
       "      <td>1</td>\n",
       "    </tr>\n",
       "    <tr>\n",
       "      <th>6</th>\n",
       "      <td>other</td>\n",
       "      <td>operating</td>\n",
       "      <td>2008</td>\n",
       "      <td>NaN</td>\n",
       "      <td>IND</td>\n",
       "      <td>NaN</td>\n",
       "      <td>NaN</td>\n",
       "      <td>NaN</td>\n",
       "      <td>NaN</td>\n",
       "      <td>NaN</td>\n",
       "      <td>NaN</td>\n",
       "      <td>NaN</td>\n",
       "      <td>NaN</td>\n",
       "      <td>22.307159</td>\n",
       "      <td>73.181219</td>\n",
       "      <td>1</td>\n",
       "    </tr>\n",
       "    <tr>\n",
       "      <th>12</th>\n",
       "      <td>advertising</td>\n",
       "      <td>operating</td>\n",
       "      <td>2008</td>\n",
       "      <td>NaN</td>\n",
       "      <td>USA</td>\n",
       "      <td>NaN</td>\n",
       "      <td>NaN</td>\n",
       "      <td>NaN</td>\n",
       "      <td>NaN</td>\n",
       "      <td>2008.0</td>\n",
       "      <td>2008.0</td>\n",
       "      <td>1.0</td>\n",
       "      <td>2.0</td>\n",
       "      <td>35.686975</td>\n",
       "      <td>-105.937799</td>\n",
       "      <td>1</td>\n",
       "    </tr>\n",
       "    <tr>\n",
       "      <th>15</th>\n",
       "      <td>games_video</td>\n",
       "      <td>operating</td>\n",
       "      <td>2008</td>\n",
       "      <td>NaN</td>\n",
       "      <td>USA</td>\n",
       "      <td>NaN</td>\n",
       "      <td>NaN</td>\n",
       "      <td>NaN</td>\n",
       "      <td>NaN</td>\n",
       "      <td>2008.0</td>\n",
       "      <td>2008.0</td>\n",
       "      <td>1.0</td>\n",
       "      <td>3.0</td>\n",
       "      <td>33.078655</td>\n",
       "      <td>-116.601964</td>\n",
       "      <td>1</td>\n",
       "    </tr>\n",
       "    <tr>\n",
       "      <th>20</th>\n",
       "      <td>other</td>\n",
       "      <td>operating</td>\n",
       "      <td>2003</td>\n",
       "      <td>NaN</td>\n",
       "      <td>USA</td>\n",
       "      <td>2011.0</td>\n",
       "      <td>2012.0</td>\n",
       "      <td>3.0</td>\n",
       "      <td>10125293.0</td>\n",
       "      <td>2010.0</td>\n",
       "      <td>2010.0</td>\n",
       "      <td>1.0</td>\n",
       "      <td>6.0</td>\n",
       "      <td>30.267153</td>\n",
       "      <td>-97.743061</td>\n",
       "      <td>1</td>\n",
       "    </tr>\n",
       "    <tr>\n",
       "      <th>...</th>\n",
       "      <td>...</td>\n",
       "      <td>...</td>\n",
       "      <td>...</td>\n",
       "      <td>...</td>\n",
       "      <td>...</td>\n",
       "      <td>...</td>\n",
       "      <td>...</td>\n",
       "      <td>...</td>\n",
       "      <td>...</td>\n",
       "      <td>...</td>\n",
       "      <td>...</td>\n",
       "      <td>...</td>\n",
       "      <td>...</td>\n",
       "      <td>...</td>\n",
       "      <td>...</td>\n",
       "      <td>...</td>\n",
       "    </tr>\n",
       "    <tr>\n",
       "      <th>196543</th>\n",
       "      <td>other</td>\n",
       "      <td>operating</td>\n",
       "      <td>2008</td>\n",
       "      <td>NaN</td>\n",
       "      <td>USA</td>\n",
       "      <td>NaN</td>\n",
       "      <td>NaN</td>\n",
       "      <td>NaN</td>\n",
       "      <td>NaN</td>\n",
       "      <td>2011.0</td>\n",
       "      <td>2011.0</td>\n",
       "      <td>1.0</td>\n",
       "      <td>5.0</td>\n",
       "      <td>38.846224</td>\n",
       "      <td>-77.306373</td>\n",
       "      <td>1</td>\n",
       "    </tr>\n",
       "    <tr>\n",
       "      <th>196545</th>\n",
       "      <td>software</td>\n",
       "      <td>operating</td>\n",
       "      <td>2004</td>\n",
       "      <td>NaN</td>\n",
       "      <td>USA</td>\n",
       "      <td>NaN</td>\n",
       "      <td>NaN</td>\n",
       "      <td>NaN</td>\n",
       "      <td>NaN</td>\n",
       "      <td>NaN</td>\n",
       "      <td>NaN</td>\n",
       "      <td>NaN</td>\n",
       "      <td>NaN</td>\n",
       "      <td>40.748350</td>\n",
       "      <td>-74.323219</td>\n",
       "      <td>1</td>\n",
       "    </tr>\n",
       "    <tr>\n",
       "      <th>196548</th>\n",
       "      <td>ecommerce</td>\n",
       "      <td>operating</td>\n",
       "      <td>2007</td>\n",
       "      <td>NaN</td>\n",
       "      <td>USA</td>\n",
       "      <td>NaN</td>\n",
       "      <td>NaN</td>\n",
       "      <td>NaN</td>\n",
       "      <td>NaN</td>\n",
       "      <td>2013.0</td>\n",
       "      <td>2013.0</td>\n",
       "      <td>2.0</td>\n",
       "      <td>5.0</td>\n",
       "      <td>37.774929</td>\n",
       "      <td>-122.419415</td>\n",
       "      <td>1</td>\n",
       "    </tr>\n",
       "    <tr>\n",
       "      <th>196551</th>\n",
       "      <td>search</td>\n",
       "      <td>operating</td>\n",
       "      <td>2008</td>\n",
       "      <td>NaN</td>\n",
       "      <td>USA</td>\n",
       "      <td>NaN</td>\n",
       "      <td>NaN</td>\n",
       "      <td>NaN</td>\n",
       "      <td>NaN</td>\n",
       "      <td>NaN</td>\n",
       "      <td>NaN</td>\n",
       "      <td>NaN</td>\n",
       "      <td>1.0</td>\n",
       "      <td>34.052234</td>\n",
       "      <td>-118.243685</td>\n",
       "      <td>1</td>\n",
       "    </tr>\n",
       "    <tr>\n",
       "      <th>196552</th>\n",
       "      <td>ecommerce</td>\n",
       "      <td>operating</td>\n",
       "      <td>2007</td>\n",
       "      <td>NaN</td>\n",
       "      <td>USA</td>\n",
       "      <td>2008.0</td>\n",
       "      <td>2008.0</td>\n",
       "      <td>1.0</td>\n",
       "      <td>475000.0</td>\n",
       "      <td>2006.0</td>\n",
       "      <td>2008.0</td>\n",
       "      <td>2.0</td>\n",
       "      <td>1.0</td>\n",
       "      <td>34.035633</td>\n",
       "      <td>-118.515590</td>\n",
       "      <td>1</td>\n",
       "    </tr>\n",
       "  </tbody>\n",
       "</table>\n",
       "<p>56580 rows × 16 columns</p>\n",
       "</div>"
      ],
      "text/plain": [
       "       category_code     status  founded_at  closed_at country_code  \\\n",
       "5        advertising  operating        2007        NaN        other   \n",
       "6              other  operating        2008        NaN          IND   \n",
       "12       advertising  operating        2008        NaN          USA   \n",
       "15       games_video  operating        2008        NaN          USA   \n",
       "20             other  operating        2003        NaN          USA   \n",
       "...              ...        ...         ...        ...          ...   \n",
       "196543         other  operating        2008        NaN          USA   \n",
       "196545      software  operating        2004        NaN          USA   \n",
       "196548     ecommerce  operating        2007        NaN          USA   \n",
       "196551        search  operating        2008        NaN          USA   \n",
       "196552     ecommerce  operating        2007        NaN          USA   \n",
       "\n",
       "        first_funding_at  last_funding_at  funding_rounds  funding_total_usd  \\\n",
       "5                    NaN              NaN             NaN                NaN   \n",
       "6                    NaN              NaN             NaN                NaN   \n",
       "12                   NaN              NaN             NaN                NaN   \n",
       "15                   NaN              NaN             NaN                NaN   \n",
       "20                2011.0           2012.0             3.0         10125293.0   \n",
       "...                  ...              ...             ...                ...   \n",
       "196543               NaN              NaN             NaN                NaN   \n",
       "196545               NaN              NaN             NaN                NaN   \n",
       "196548               NaN              NaN             NaN                NaN   \n",
       "196551               NaN              NaN             NaN                NaN   \n",
       "196552            2008.0           2008.0             1.0           475000.0   \n",
       "\n",
       "        first_milestone_at  last_milestone_at  milestones  relationships  \\\n",
       "5                      NaN                NaN         NaN            2.0   \n",
       "6                      NaN                NaN         NaN            NaN   \n",
       "12                  2008.0             2008.0         1.0            2.0   \n",
       "15                  2008.0             2008.0         1.0            3.0   \n",
       "20                  2010.0             2010.0         1.0            6.0   \n",
       "...                    ...                ...         ...            ...   \n",
       "196543              2011.0             2011.0         1.0            5.0   \n",
       "196545                 NaN                NaN         NaN            NaN   \n",
       "196548              2013.0             2013.0         2.0            5.0   \n",
       "196551                 NaN                NaN         NaN            1.0   \n",
       "196552              2006.0             2008.0         2.0            1.0   \n",
       "\n",
       "              lat         lng  isClosed  \n",
       "5       30.427755   -9.598107         1  \n",
       "6       22.307159   73.181219         1  \n",
       "12      35.686975 -105.937799         1  \n",
       "15      33.078655 -116.601964         1  \n",
       "20      30.267153  -97.743061         1  \n",
       "...           ...         ...       ...  \n",
       "196543  38.846224  -77.306373         1  \n",
       "196545  40.748350  -74.323219         1  \n",
       "196548  37.774929 -122.419415         1  \n",
       "196551  34.052234 -118.243685         1  \n",
       "196552  34.035633 -118.515590         1  \n",
       "\n",
       "[56580 rows x 16 columns]"
      ]
     },
     "execution_count": 47,
     "metadata": {},
     "output_type": "execute_result"
    }
   ],
   "source": [
    "def isClosed(row):\n",
    "    if row['status'] == 'operating' or row['status'] == 'ipo':\n",
    "        return 1\n",
    "    else:\n",
    "        return 0\n",
    "company['isClosed'] = company.apply(lambda rw: isClosed(rw),axis=1)\n",
    "company"
   ]
  },
  {
   "cell_type": "code",
   "execution_count": 48,
   "id": "579a3db8",
   "metadata": {},
   "outputs": [
    {
     "data": {
      "text/plain": [
       "1    52169\n",
       "0     4411\n",
       "Name: isClosed, dtype: int64"
      ]
     },
     "execution_count": 48,
     "metadata": {},
     "output_type": "execute_result"
    }
   ],
   "source": [
    "company.isClosed.value_counts()"
   ]
  },
  {
   "cell_type": "markdown",
   "id": "635300a3",
   "metadata": {},
   "source": [
    "#### 2.b. Create active_days\n",
    "     i. Replacing values:\n",
    "         -  if the value in status is 'operating' or 'ipo' in closed_at, Let's put 2021.\n",
    "         - Where as if the value is 'acquired' or 'closed', let's put 0.\n",
    "     ii. Subtract founded_date from closed_date, and calculate age in days (After calculating active days, \n",
    "         check contradictory issues we didn't check it before).\n",
    "     iii. Then, delete the closed_at column."
   ]
  },
  {
   "cell_type": "markdown",
   "id": "9293b6b4",
   "metadata": {},
   "source": [
    "##### 2.b.i  Replacing the values in closed_at column\n",
    "   - if the value in status is 'operating' or 'ipo' in closed_at, Let's put 2021.\n",
    "   - Where as if the value is 'acquired' or 'closed', let's put 0."
   ]
  },
  {
   "cell_type": "code",
   "execution_count": 49,
   "id": "7a8367ff",
   "metadata": {},
   "outputs": [
    {
     "data": {
      "text/plain": [
       "array([  nan, 2010., 2012., 2013., 2009., 2011., 2008., 2006., 1963.,\n",
       "       1991., 2005., 2001., 2007., 1998., 2004., 1997., 2000.])"
      ]
     },
     "execution_count": 49,
     "metadata": {},
     "output_type": "execute_result"
    }
   ],
   "source": [
    "company.closed_at.unique()"
   ]
  },
  {
   "cell_type": "code",
   "execution_count": 50,
   "id": "9a2d249f",
   "metadata": {},
   "outputs": [],
   "source": [
    "company['closed_at']=(np.where((company['status']=='operating')|(company['status']=='ipo'),2021,company['closed_at']))"
   ]
  },
  {
   "cell_type": "code",
   "execution_count": 51,
   "id": "9dca2ebb",
   "metadata": {},
   "outputs": [],
   "source": [
    "company.dropna(axis=0, subset=['closed_at'], inplace=True)"
   ]
  },
  {
   "cell_type": "code",
   "execution_count": 52,
   "id": "d0d3d70e",
   "metadata": {},
   "outputs": [
    {
     "data": {
      "text/html": [
       "<div>\n",
       "<style scoped>\n",
       "    .dataframe tbody tr th:only-of-type {\n",
       "        vertical-align: middle;\n",
       "    }\n",
       "\n",
       "    .dataframe tbody tr th {\n",
       "        vertical-align: top;\n",
       "    }\n",
       "\n",
       "    .dataframe thead th {\n",
       "        text-align: right;\n",
       "    }\n",
       "</style>\n",
       "<table border=\"1\" class=\"dataframe\">\n",
       "  <thead>\n",
       "    <tr style=\"text-align: right;\">\n",
       "      <th></th>\n",
       "      <th>category_code</th>\n",
       "      <th>status</th>\n",
       "      <th>founded_at</th>\n",
       "      <th>closed_at</th>\n",
       "      <th>country_code</th>\n",
       "      <th>first_funding_at</th>\n",
       "      <th>last_funding_at</th>\n",
       "      <th>funding_rounds</th>\n",
       "      <th>funding_total_usd</th>\n",
       "      <th>first_milestone_at</th>\n",
       "      <th>last_milestone_at</th>\n",
       "      <th>milestones</th>\n",
       "      <th>relationships</th>\n",
       "      <th>lat</th>\n",
       "      <th>lng</th>\n",
       "      <th>isClosed</th>\n",
       "    </tr>\n",
       "  </thead>\n",
       "  <tbody>\n",
       "    <tr>\n",
       "      <th>5</th>\n",
       "      <td>advertising</td>\n",
       "      <td>operating</td>\n",
       "      <td>2007</td>\n",
       "      <td>2021.0</td>\n",
       "      <td>other</td>\n",
       "      <td>NaN</td>\n",
       "      <td>NaN</td>\n",
       "      <td>NaN</td>\n",
       "      <td>NaN</td>\n",
       "      <td>NaN</td>\n",
       "      <td>NaN</td>\n",
       "      <td>NaN</td>\n",
       "      <td>2.0</td>\n",
       "      <td>30.427755</td>\n",
       "      <td>-9.598107</td>\n",
       "      <td>1</td>\n",
       "    </tr>\n",
       "    <tr>\n",
       "      <th>6</th>\n",
       "      <td>other</td>\n",
       "      <td>operating</td>\n",
       "      <td>2008</td>\n",
       "      <td>2021.0</td>\n",
       "      <td>IND</td>\n",
       "      <td>NaN</td>\n",
       "      <td>NaN</td>\n",
       "      <td>NaN</td>\n",
       "      <td>NaN</td>\n",
       "      <td>NaN</td>\n",
       "      <td>NaN</td>\n",
       "      <td>NaN</td>\n",
       "      <td>NaN</td>\n",
       "      <td>22.307159</td>\n",
       "      <td>73.181219</td>\n",
       "      <td>1</td>\n",
       "    </tr>\n",
       "    <tr>\n",
       "      <th>12</th>\n",
       "      <td>advertising</td>\n",
       "      <td>operating</td>\n",
       "      <td>2008</td>\n",
       "      <td>2021.0</td>\n",
       "      <td>USA</td>\n",
       "      <td>NaN</td>\n",
       "      <td>NaN</td>\n",
       "      <td>NaN</td>\n",
       "      <td>NaN</td>\n",
       "      <td>2008.0</td>\n",
       "      <td>2008.0</td>\n",
       "      <td>1.0</td>\n",
       "      <td>2.0</td>\n",
       "      <td>35.686975</td>\n",
       "      <td>-105.937799</td>\n",
       "      <td>1</td>\n",
       "    </tr>\n",
       "    <tr>\n",
       "      <th>15</th>\n",
       "      <td>games_video</td>\n",
       "      <td>operating</td>\n",
       "      <td>2008</td>\n",
       "      <td>2021.0</td>\n",
       "      <td>USA</td>\n",
       "      <td>NaN</td>\n",
       "      <td>NaN</td>\n",
       "      <td>NaN</td>\n",
       "      <td>NaN</td>\n",
       "      <td>2008.0</td>\n",
       "      <td>2008.0</td>\n",
       "      <td>1.0</td>\n",
       "      <td>3.0</td>\n",
       "      <td>33.078655</td>\n",
       "      <td>-116.601964</td>\n",
       "      <td>1</td>\n",
       "    </tr>\n",
       "    <tr>\n",
       "      <th>20</th>\n",
       "      <td>other</td>\n",
       "      <td>operating</td>\n",
       "      <td>2003</td>\n",
       "      <td>2021.0</td>\n",
       "      <td>USA</td>\n",
       "      <td>2011.0</td>\n",
       "      <td>2012.0</td>\n",
       "      <td>3.0</td>\n",
       "      <td>10125293.0</td>\n",
       "      <td>2010.0</td>\n",
       "      <td>2010.0</td>\n",
       "      <td>1.0</td>\n",
       "      <td>6.0</td>\n",
       "      <td>30.267153</td>\n",
       "      <td>-97.743061</td>\n",
       "      <td>1</td>\n",
       "    </tr>\n",
       "  </tbody>\n",
       "</table>\n",
       "</div>"
      ],
      "text/plain": [
       "   category_code     status  founded_at  closed_at country_code  \\\n",
       "5    advertising  operating        2007     2021.0        other   \n",
       "6          other  operating        2008     2021.0          IND   \n",
       "12   advertising  operating        2008     2021.0          USA   \n",
       "15   games_video  operating        2008     2021.0          USA   \n",
       "20         other  operating        2003     2021.0          USA   \n",
       "\n",
       "    first_funding_at  last_funding_at  funding_rounds  funding_total_usd  \\\n",
       "5                NaN              NaN             NaN                NaN   \n",
       "6                NaN              NaN             NaN                NaN   \n",
       "12               NaN              NaN             NaN                NaN   \n",
       "15               NaN              NaN             NaN                NaN   \n",
       "20            2011.0           2012.0             3.0         10125293.0   \n",
       "\n",
       "    first_milestone_at  last_milestone_at  milestones  relationships  \\\n",
       "5                  NaN                NaN         NaN            2.0   \n",
       "6                  NaN                NaN         NaN            NaN   \n",
       "12              2008.0             2008.0         1.0            2.0   \n",
       "15              2008.0             2008.0         1.0            3.0   \n",
       "20              2010.0             2010.0         1.0            6.0   \n",
       "\n",
       "          lat         lng  isClosed  \n",
       "5   30.427755   -9.598107         1  \n",
       "6   22.307159   73.181219         1  \n",
       "12  35.686975 -105.937799         1  \n",
       "15  33.078655 -116.601964         1  \n",
       "20  30.267153  -97.743061         1  "
      ]
     },
     "execution_count": 52,
     "metadata": {},
     "output_type": "execute_result"
    }
   ],
   "source": [
    "company.head()"
   ]
  },
  {
   "cell_type": "markdown",
   "id": "5fd169a2",
   "metadata": {},
   "source": [
    "##### 2.b.ii Subtract founded_date from closed_date, and calculate age in days (After calculating active days, check contradictory issues we didn't check it before.)"
   ]
  },
  {
   "cell_type": "code",
   "execution_count": 53,
   "id": "aea4110d",
   "metadata": {},
   "outputs": [],
   "source": [
    "closed_at=company['closed_at']\n",
    "founded_at=company['founded_at']"
   ]
  },
  {
   "cell_type": "code",
   "execution_count": 54,
   "id": "6ba9d5ed",
   "metadata": {},
   "outputs": [
    {
     "data": {
      "text/plain": [
       "5         5110.0\n",
       "6         4745.0\n",
       "12        4745.0\n",
       "15        4745.0\n",
       "20        6570.0\n",
       "           ...  \n",
       "196543    4745.0\n",
       "196545    6205.0\n",
       "196548    5110.0\n",
       "196551    4745.0\n",
       "196552    5110.0\n",
       "Name: Active_Days, Length: 53592, dtype: float64"
      ]
     },
     "execution_count": 54,
     "metadata": {},
     "output_type": "execute_result"
    }
   ],
   "source": [
    "active_days=365*((closed_at).astype('float64')-(founded_at).astype('float64'))\n",
    "company['Active_Days']=active_days\n",
    "index_name=company['Active_Days'].sort_values().head(68).index\n",
    "company.drop(index_name,inplace=True)\n",
    "company['Active_Days']"
   ]
  },
  {
   "cell_type": "markdown",
   "id": "eeb90c44",
   "metadata": {},
   "source": [
    "#### 2.b.iii. Then, delete the closed_at column."
   ]
  },
  {
   "cell_type": "code",
   "execution_count": 55,
   "id": "589d14d1",
   "metadata": {},
   "outputs": [],
   "source": [
    "company.drop(['closed_at'], axis=1,inplace=True)"
   ]
  },
  {
   "cell_type": "markdown",
   "id": "9ad1fad5",
   "metadata": {},
   "source": [
    "### Let's work on target variabe now."
   ]
  },
  {
   "cell_type": "code",
   "execution_count": 56,
   "id": "041570e7",
   "metadata": {},
   "outputs": [
    {
     "data": {
      "text/plain": [
       "category_code          object\n",
       "status                 object\n",
       "founded_at              int64\n",
       "country_code           object\n",
       "first_funding_at      float64\n",
       "last_funding_at       float64\n",
       "funding_rounds        float64\n",
       "funding_total_usd     float64\n",
       "first_milestone_at    float64\n",
       "last_milestone_at     float64\n",
       "milestones            float64\n",
       "relationships         float64\n",
       "lat                   float64\n",
       "lng                   float64\n",
       "isClosed                int64\n",
       "Active_Days           float64\n",
       "dtype: object"
      ]
     },
     "execution_count": 56,
     "metadata": {},
     "output_type": "execute_result"
    }
   ],
   "source": [
    "company.dtypes"
   ]
  },
  {
   "cell_type": "code",
   "execution_count": 57,
   "id": "03dc25b7",
   "metadata": {},
   "outputs": [
    {
     "data": {
      "text/plain": [
       "category_code             0\n",
       "status                    0\n",
       "founded_at                0\n",
       "country_code              0\n",
       "first_funding_at      37651\n",
       "last_funding_at       37651\n",
       "funding_rounds        37519\n",
       "funding_total_usd     39623\n",
       "first_milestone_at    25966\n",
       "last_milestone_at     25966\n",
       "milestones            25966\n",
       "relationships         14453\n",
       "lat                    2182\n",
       "lng                    2182\n",
       "isClosed                  0\n",
       "Active_Days               0\n",
       "dtype: int64"
      ]
     },
     "execution_count": 57,
     "metadata": {},
     "output_type": "execute_result"
    }
   ],
   "source": [
    "company.isna().sum()"
   ]
  },
  {
   "cell_type": "code",
   "execution_count": 58,
   "id": "d8a8da2d",
   "metadata": {},
   "outputs": [
    {
     "data": {
      "text/plain": [
       "(53592, 16)"
      ]
     },
     "execution_count": 58,
     "metadata": {},
     "output_type": "execute_result"
    }
   ],
   "source": [
    "company.shape"
   ]
  },
  {
   "cell_type": "markdown",
   "id": "33b8528a",
   "metadata": {},
   "source": [
    "### Remove the null vaues with the mean value in 'Numerical Data'"
   ]
  },
  {
   "cell_type": "code",
   "execution_count": 59,
   "id": "28ce46b1",
   "metadata": {},
   "outputs": [],
   "source": [
    "company['first_funding_at'].fillna(int(company['first_funding_at'].mean()),inplace=True)\n",
    "\n",
    "company['last_funding_at'].fillna(int(company['last_funding_at'].mean()),inplace=True)\n",
    "\n",
    "company['funding_rounds'].fillna(int(company['funding_rounds'].mean()),inplace=True)\n",
    "\n",
    "company['funding_total_usd'].fillna(int(company['funding_total_usd'].mean()),inplace=True)\n",
    "\n",
    "company['first_milestone_at'].fillna(int(company['first_milestone_at'].mean()),inplace=True)\n",
    "\n",
    "company['last_milestone_at'].fillna(int(company['last_milestone_at'].mean()),inplace=True)\n",
    "\n",
    "company['milestones'].fillna(int(company['milestones'].mean()),inplace=True)\n",
    "\n",
    "company['relationships'].fillna(int(company['relationships'].mean()),inplace=True)\n",
    "\n",
    "company['lat'].fillna(int(company['lat'].mean()),inplace=True)\n",
    "\n",
    "company['lng'].fillna(int(company['lng'].mean()),inplace=True)"
   ]
  },
  {
   "cell_type": "code",
   "execution_count": 60,
   "id": "63ad9484",
   "metadata": {},
   "outputs": [
    {
     "data": {
      "text/plain": [
       "category_code         0\n",
       "status                0\n",
       "founded_at            0\n",
       "country_code          0\n",
       "first_funding_at      0\n",
       "last_funding_at       0\n",
       "funding_rounds        0\n",
       "funding_total_usd     0\n",
       "first_milestone_at    0\n",
       "last_milestone_at     0\n",
       "milestones            0\n",
       "relationships         0\n",
       "lat                   0\n",
       "lng                   0\n",
       "isClosed              0\n",
       "Active_Days           0\n",
       "dtype: int64"
      ]
     },
     "execution_count": 60,
     "metadata": {},
     "output_type": "execute_result"
    }
   ],
   "source": [
    "company.isna().sum()"
   ]
  },
  {
   "cell_type": "code",
   "execution_count": 61,
   "id": "c7fb7c39",
   "metadata": {},
   "outputs": [
    {
     "data": {
      "text/plain": [
       "False"
      ]
     },
     "execution_count": 61,
     "metadata": {},
     "output_type": "execute_result"
    }
   ],
   "source": [
    "# Final null check on data\n",
    "company.isnull().sum().any()"
   ]
  },
  {
   "cell_type": "code",
   "execution_count": 62,
   "id": "2b55d90f",
   "metadata": {},
   "outputs": [],
   "source": [
    "# First let's check how much of rows has nan values and drop them. \n",
    "#company.dropna(inplace=True)"
   ]
  },
  {
   "cell_type": "code",
   "execution_count": 63,
   "id": "21d2be77",
   "metadata": {},
   "outputs": [],
   "source": [
    "#Finally Save cleaned Data.\n",
    "#company.to_csv('Final_dataset.csv',index=False)"
   ]
  },
  {
   "cell_type": "code",
   "execution_count": 64,
   "id": "d6d34ab1",
   "metadata": {},
   "outputs": [
    {
     "data": {
      "text/plain": [
       "(53592, 16)"
      ]
     },
     "execution_count": 64,
     "metadata": {},
     "output_type": "execute_result"
    }
   ],
   "source": [
    "company.shape"
   ]
  },
  {
   "cell_type": "markdown",
   "id": "0783b061",
   "metadata": {},
   "source": [
    "## Exploratory Data Analysis"
   ]
  },
  {
   "cell_type": "code",
   "execution_count": 65,
   "id": "988ac087",
   "metadata": {},
   "outputs": [],
   "source": [
    "#load Dataset\n",
    "#company= pd.read_csv(\"Final_dataset.csv\")"
   ]
  },
  {
   "cell_type": "code",
   "execution_count": 66,
   "id": "a885838d",
   "metadata": {},
   "outputs": [
    {
     "data": {
      "text/plain": [
       "(53592, 16)"
      ]
     },
     "execution_count": 66,
     "metadata": {},
     "output_type": "execute_result"
    }
   ],
   "source": [
    "company.shape"
   ]
  },
  {
   "cell_type": "code",
   "execution_count": 67,
   "id": "e056f88e",
   "metadata": {},
   "outputs": [
    {
     "data": {
      "text/html": [
       "<div>\n",
       "<style scoped>\n",
       "    .dataframe tbody tr th:only-of-type {\n",
       "        vertical-align: middle;\n",
       "    }\n",
       "\n",
       "    .dataframe tbody tr th {\n",
       "        vertical-align: top;\n",
       "    }\n",
       "\n",
       "    .dataframe thead th {\n",
       "        text-align: right;\n",
       "    }\n",
       "</style>\n",
       "<table border=\"1\" class=\"dataframe\">\n",
       "  <thead>\n",
       "    <tr style=\"text-align: right;\">\n",
       "      <th></th>\n",
       "      <th>category_code</th>\n",
       "      <th>status</th>\n",
       "      <th>founded_at</th>\n",
       "      <th>country_code</th>\n",
       "      <th>first_funding_at</th>\n",
       "      <th>last_funding_at</th>\n",
       "      <th>funding_rounds</th>\n",
       "      <th>funding_total_usd</th>\n",
       "      <th>first_milestone_at</th>\n",
       "      <th>last_milestone_at</th>\n",
       "      <th>milestones</th>\n",
       "      <th>relationships</th>\n",
       "      <th>lat</th>\n",
       "      <th>lng</th>\n",
       "      <th>isClosed</th>\n",
       "      <th>Active_Days</th>\n",
       "    </tr>\n",
       "  </thead>\n",
       "  <tbody>\n",
       "    <tr>\n",
       "      <th>5</th>\n",
       "      <td>advertising</td>\n",
       "      <td>operating</td>\n",
       "      <td>2007</td>\n",
       "      <td>other</td>\n",
       "      <td>2010.0</td>\n",
       "      <td>2011.0</td>\n",
       "      <td>1.0</td>\n",
       "      <td>3652912.0</td>\n",
       "      <td>2009.0</td>\n",
       "      <td>2009.0</td>\n",
       "      <td>1.0</td>\n",
       "      <td>2.0</td>\n",
       "      <td>30.427755</td>\n",
       "      <td>-9.598107</td>\n",
       "      <td>1</td>\n",
       "      <td>5110.0</td>\n",
       "    </tr>\n",
       "    <tr>\n",
       "      <th>6</th>\n",
       "      <td>other</td>\n",
       "      <td>operating</td>\n",
       "      <td>2008</td>\n",
       "      <td>IND</td>\n",
       "      <td>2010.0</td>\n",
       "      <td>2011.0</td>\n",
       "      <td>1.0</td>\n",
       "      <td>3652912.0</td>\n",
       "      <td>2009.0</td>\n",
       "      <td>2009.0</td>\n",
       "      <td>1.0</td>\n",
       "      <td>2.0</td>\n",
       "      <td>22.307159</td>\n",
       "      <td>73.181219</td>\n",
       "      <td>1</td>\n",
       "      <td>4745.0</td>\n",
       "    </tr>\n",
       "    <tr>\n",
       "      <th>12</th>\n",
       "      <td>advertising</td>\n",
       "      <td>operating</td>\n",
       "      <td>2008</td>\n",
       "      <td>USA</td>\n",
       "      <td>2010.0</td>\n",
       "      <td>2011.0</td>\n",
       "      <td>1.0</td>\n",
       "      <td>3652912.0</td>\n",
       "      <td>2008.0</td>\n",
       "      <td>2008.0</td>\n",
       "      <td>1.0</td>\n",
       "      <td>2.0</td>\n",
       "      <td>35.686975</td>\n",
       "      <td>-105.937799</td>\n",
       "      <td>1</td>\n",
       "      <td>4745.0</td>\n",
       "    </tr>\n",
       "    <tr>\n",
       "      <th>15</th>\n",
       "      <td>games_video</td>\n",
       "      <td>operating</td>\n",
       "      <td>2008</td>\n",
       "      <td>USA</td>\n",
       "      <td>2010.0</td>\n",
       "      <td>2011.0</td>\n",
       "      <td>1.0</td>\n",
       "      <td>3652912.0</td>\n",
       "      <td>2008.0</td>\n",
       "      <td>2008.0</td>\n",
       "      <td>1.0</td>\n",
       "      <td>3.0</td>\n",
       "      <td>33.078655</td>\n",
       "      <td>-116.601964</td>\n",
       "      <td>1</td>\n",
       "      <td>4745.0</td>\n",
       "    </tr>\n",
       "    <tr>\n",
       "      <th>20</th>\n",
       "      <td>other</td>\n",
       "      <td>operating</td>\n",
       "      <td>2003</td>\n",
       "      <td>USA</td>\n",
       "      <td>2011.0</td>\n",
       "      <td>2012.0</td>\n",
       "      <td>3.0</td>\n",
       "      <td>10125293.0</td>\n",
       "      <td>2010.0</td>\n",
       "      <td>2010.0</td>\n",
       "      <td>1.0</td>\n",
       "      <td>6.0</td>\n",
       "      <td>30.267153</td>\n",
       "      <td>-97.743061</td>\n",
       "      <td>1</td>\n",
       "      <td>6570.0</td>\n",
       "    </tr>\n",
       "  </tbody>\n",
       "</table>\n",
       "</div>"
      ],
      "text/plain": [
       "   category_code     status  founded_at country_code  first_funding_at  \\\n",
       "5    advertising  operating        2007        other            2010.0   \n",
       "6          other  operating        2008          IND            2010.0   \n",
       "12   advertising  operating        2008          USA            2010.0   \n",
       "15   games_video  operating        2008          USA            2010.0   \n",
       "20         other  operating        2003          USA            2011.0   \n",
       "\n",
       "    last_funding_at  funding_rounds  funding_total_usd  first_milestone_at  \\\n",
       "5            2011.0             1.0          3652912.0              2009.0   \n",
       "6            2011.0             1.0          3652912.0              2009.0   \n",
       "12           2011.0             1.0          3652912.0              2008.0   \n",
       "15           2011.0             1.0          3652912.0              2008.0   \n",
       "20           2012.0             3.0         10125293.0              2010.0   \n",
       "\n",
       "    last_milestone_at  milestones  relationships        lat         lng  \\\n",
       "5              2009.0         1.0            2.0  30.427755   -9.598107   \n",
       "6              2009.0         1.0            2.0  22.307159   73.181219   \n",
       "12             2008.0         1.0            2.0  35.686975 -105.937799   \n",
       "15             2008.0         1.0            3.0  33.078655 -116.601964   \n",
       "20             2010.0         1.0            6.0  30.267153  -97.743061   \n",
       "\n",
       "    isClosed  Active_Days  \n",
       "5          1       5110.0  \n",
       "6          1       4745.0  \n",
       "12         1       4745.0  \n",
       "15         1       4745.0  \n",
       "20         1       6570.0  "
      ]
     },
     "execution_count": 67,
     "metadata": {},
     "output_type": "execute_result"
    }
   ],
   "source": [
    "company.head()"
   ]
  },
  {
   "cell_type": "code",
   "execution_count": 68,
   "id": "d32505db",
   "metadata": {},
   "outputs": [
    {
     "data": {
      "text/plain": [
       "Index(['category_code', 'status', 'founded_at', 'country_code',\n",
       "       'first_funding_at', 'last_funding_at', 'funding_rounds',\n",
       "       'funding_total_usd', 'first_milestone_at', 'last_milestone_at',\n",
       "       'milestones', 'relationships', 'lat', 'lng', 'isClosed', 'Active_Days'],\n",
       "      dtype='object')"
      ]
     },
     "execution_count": 68,
     "metadata": {},
     "output_type": "execute_result"
    }
   ],
   "source": [
    "company.columns"
   ]
  },
  {
   "cell_type": "code",
   "execution_count": 69,
   "id": "28f8350e",
   "metadata": {},
   "outputs": [
    {
     "data": {
      "text/html": [
       "<div>\n",
       "<style scoped>\n",
       "    .dataframe tbody tr th:only-of-type {\n",
       "        vertical-align: middle;\n",
       "    }\n",
       "\n",
       "    .dataframe tbody tr th {\n",
       "        vertical-align: top;\n",
       "    }\n",
       "\n",
       "    .dataframe thead th {\n",
       "        text-align: right;\n",
       "    }\n",
       "</style>\n",
       "<table border=\"1\" class=\"dataframe\">\n",
       "  <thead>\n",
       "    <tr style=\"text-align: right;\">\n",
       "      <th></th>\n",
       "      <th>founded_at</th>\n",
       "      <th>first_funding_at</th>\n",
       "      <th>last_funding_at</th>\n",
       "      <th>funding_rounds</th>\n",
       "      <th>funding_total_usd</th>\n",
       "      <th>first_milestone_at</th>\n",
       "      <th>last_milestone_at</th>\n",
       "      <th>milestones</th>\n",
       "      <th>relationships</th>\n",
       "      <th>lat</th>\n",
       "      <th>lng</th>\n",
       "      <th>isClosed</th>\n",
       "      <th>Active_Days</th>\n",
       "    </tr>\n",
       "  </thead>\n",
       "  <tbody>\n",
       "    <tr>\n",
       "      <th>count</th>\n",
       "      <td>53592.000000</td>\n",
       "      <td>53592.000000</td>\n",
       "      <td>53592.000000</td>\n",
       "      <td>53592.000000</td>\n",
       "      <td>5.359200e+04</td>\n",
       "      <td>53592.000000</td>\n",
       "      <td>53592.000000</td>\n",
       "      <td>53592.000000</td>\n",
       "      <td>53592.000000</td>\n",
       "      <td>53592.000000</td>\n",
       "      <td>53592.000000</td>\n",
       "      <td>53592.000000</td>\n",
       "      <td>53592.000000</td>\n",
       "    </tr>\n",
       "    <tr>\n",
       "      <th>mean</th>\n",
       "      <td>2006.102851</td>\n",
       "      <td>2010.184953</td>\n",
       "      <td>2011.022298</td>\n",
       "      <td>1.110110</td>\n",
       "      <td>3.652912e+06</td>\n",
       "      <td>2009.283998</td>\n",
       "      <td>2009.512203</td>\n",
       "      <td>1.136140</td>\n",
       "      <td>2.422936</td>\n",
       "      <td>37.003570</td>\n",
       "      <td>-45.808216</td>\n",
       "      <td>0.973448</td>\n",
       "      <td>5344.458968</td>\n",
       "    </tr>\n",
       "    <tr>\n",
       "      <th>std</th>\n",
       "      <td>9.190463</td>\n",
       "      <td>1.366384</td>\n",
       "      <td>1.272814</td>\n",
       "      <td>0.378591</td>\n",
       "      <td>2.804505e+06</td>\n",
       "      <td>2.994349</td>\n",
       "      <td>2.935290</td>\n",
       "      <td>0.415158</td>\n",
       "      <td>1.481865</td>\n",
       "      <td>16.238955</td>\n",
       "      <td>70.493279</td>\n",
       "      <td>0.160773</td>\n",
       "      <td>3408.456390</td>\n",
       "    </tr>\n",
       "    <tr>\n",
       "      <th>min</th>\n",
       "      <td>1901.000000</td>\n",
       "      <td>1960.000000</td>\n",
       "      <td>1960.000000</td>\n",
       "      <td>1.000000</td>\n",
       "      <td>2.910000e+02</td>\n",
       "      <td>1960.000000</td>\n",
       "      <td>1960.000000</td>\n",
       "      <td>1.000000</td>\n",
       "      <td>1.000000</td>\n",
       "      <td>-50.942326</td>\n",
       "      <td>-159.485278</td>\n",
       "      <td>0.000000</td>\n",
       "      <td>365.000000</td>\n",
       "    </tr>\n",
       "    <tr>\n",
       "      <th>25%</th>\n",
       "      <td>2005.000000</td>\n",
       "      <td>2010.000000</td>\n",
       "      <td>2011.000000</td>\n",
       "      <td>1.000000</td>\n",
       "      <td>3.652912e+06</td>\n",
       "      <td>2009.000000</td>\n",
       "      <td>2009.000000</td>\n",
       "      <td>1.000000</td>\n",
       "      <td>2.000000</td>\n",
       "      <td>34.019454</td>\n",
       "      <td>-97.743061</td>\n",
       "      <td>1.000000</td>\n",
       "      <td>3650.000000</td>\n",
       "    </tr>\n",
       "    <tr>\n",
       "      <th>50%</th>\n",
       "      <td>2009.000000</td>\n",
       "      <td>2010.000000</td>\n",
       "      <td>2011.000000</td>\n",
       "      <td>1.000000</td>\n",
       "      <td>3.652912e+06</td>\n",
       "      <td>2009.000000</td>\n",
       "      <td>2009.000000</td>\n",
       "      <td>1.000000</td>\n",
       "      <td>2.000000</td>\n",
       "      <td>39.103118</td>\n",
       "      <td>-74.005973</td>\n",
       "      <td>1.000000</td>\n",
       "      <td>4380.000000</td>\n",
       "    </tr>\n",
       "    <tr>\n",
       "      <th>75%</th>\n",
       "      <td>2011.000000</td>\n",
       "      <td>2010.000000</td>\n",
       "      <td>2011.000000</td>\n",
       "      <td>1.000000</td>\n",
       "      <td>3.652912e+06</td>\n",
       "      <td>2011.000000</td>\n",
       "      <td>2011.000000</td>\n",
       "      <td>1.000000</td>\n",
       "      <td>3.000000</td>\n",
       "      <td>45.421530</td>\n",
       "      <td>2.352222</td>\n",
       "      <td>1.000000</td>\n",
       "      <td>5840.000000</td>\n",
       "    </tr>\n",
       "    <tr>\n",
       "      <th>max</th>\n",
       "      <td>2014.000000</td>\n",
       "      <td>2013.000000</td>\n",
       "      <td>2013.000000</td>\n",
       "      <td>3.000000</td>\n",
       "      <td>2.918450e+07</td>\n",
       "      <td>2014.000000</td>\n",
       "      <td>2014.000000</td>\n",
       "      <td>7.000000</td>\n",
       "      <td>8.000000</td>\n",
       "      <td>77.553604</td>\n",
       "      <td>176.165130</td>\n",
       "      <td>1.000000</td>\n",
       "      <td>43800.000000</td>\n",
       "    </tr>\n",
       "  </tbody>\n",
       "</table>\n",
       "</div>"
      ],
      "text/plain": [
       "         founded_at  first_funding_at  last_funding_at  funding_rounds  \\\n",
       "count  53592.000000      53592.000000     53592.000000    53592.000000   \n",
       "mean    2006.102851       2010.184953      2011.022298        1.110110   \n",
       "std        9.190463          1.366384         1.272814        0.378591   \n",
       "min     1901.000000       1960.000000      1960.000000        1.000000   \n",
       "25%     2005.000000       2010.000000      2011.000000        1.000000   \n",
       "50%     2009.000000       2010.000000      2011.000000        1.000000   \n",
       "75%     2011.000000       2010.000000      2011.000000        1.000000   \n",
       "max     2014.000000       2013.000000      2013.000000        3.000000   \n",
       "\n",
       "       funding_total_usd  first_milestone_at  last_milestone_at    milestones  \\\n",
       "count       5.359200e+04        53592.000000       53592.000000  53592.000000   \n",
       "mean        3.652912e+06         2009.283998        2009.512203      1.136140   \n",
       "std         2.804505e+06            2.994349           2.935290      0.415158   \n",
       "min         2.910000e+02         1960.000000        1960.000000      1.000000   \n",
       "25%         3.652912e+06         2009.000000        2009.000000      1.000000   \n",
       "50%         3.652912e+06         2009.000000        2009.000000      1.000000   \n",
       "75%         3.652912e+06         2011.000000        2011.000000      1.000000   \n",
       "max         2.918450e+07         2014.000000        2014.000000      7.000000   \n",
       "\n",
       "       relationships           lat           lng      isClosed   Active_Days  \n",
       "count   53592.000000  53592.000000  53592.000000  53592.000000  53592.000000  \n",
       "mean        2.422936     37.003570    -45.808216      0.973448   5344.458968  \n",
       "std         1.481865     16.238955     70.493279      0.160773   3408.456390  \n",
       "min         1.000000    -50.942326   -159.485278      0.000000    365.000000  \n",
       "25%         2.000000     34.019454    -97.743061      1.000000   3650.000000  \n",
       "50%         2.000000     39.103118    -74.005973      1.000000   4380.000000  \n",
       "75%         3.000000     45.421530      2.352222      1.000000   5840.000000  \n",
       "max         8.000000     77.553604    176.165130      1.000000  43800.000000  "
      ]
     },
     "execution_count": 69,
     "metadata": {},
     "output_type": "execute_result"
    }
   ],
   "source": [
    "company.describe()"
   ]
  },
  {
   "cell_type": "code",
   "execution_count": 70,
   "id": "f9a02fc4",
   "metadata": {
    "scrolled": true
   },
   "outputs": [
    {
     "data": {
      "image/png": "[encoded data removed]",
      "text/plain": [
       "<Figure size 1440x1080 with 16 Axes>"
      ]
     },
     "metadata": {},
     "output_type": "display_data"
    }
   ],
   "source": [
    "import matplotlib.pyplot as plt\n",
    "company.hist(bins=50, figsize=(20,15))\n",
    "plt.show()"
   ]
  },
  {
   "cell_type": "markdown",
   "id": "d6982013",
   "metadata": {},
   "source": [
    "### Univariate Analysis"
   ]
  },
  {
   "cell_type": "code",
   "execution_count": 71,
   "id": "5164fada",
   "metadata": {},
   "outputs": [
    {
     "data": {
      "text/plain": [
       "1    52169\n",
       "0     1423\n",
       "Name: isClosed, dtype: int64"
      ]
     },
     "execution_count": 71,
     "metadata": {},
     "output_type": "execute_result"
    }
   ],
   "source": [
    "company.isClosed.value_counts()"
   ]
  },
  {
   "cell_type": "code",
   "execution_count": 72,
   "id": "3dd7a3e6",
   "metadata": {},
   "outputs": [
    {
     "data": {
      "image/png": "[encoded data removed]",
      "text/plain": [
       "<Figure size 432x288 with 1 Axes>"
      ]
     },
     "metadata": {},
     "output_type": "display_data"
    }
   ],
   "source": [
    "company['isClosed'].value_counts().plot(kind=\"pie\", autopct=\"%.2f\")\n",
    "plt.show()"
   ]
  },
  {
   "cell_type": "raw",
   "id": "7e01dd74",
   "metadata": {},
   "source": [
    "This indicates that 97.34% of companies in this dataset running succssufully. and it is a biased dataset"
   ]
  },
  {
   "cell_type": "code",
   "execution_count": 73,
   "id": "0037f204",
   "metadata": {},
   "outputs": [
    {
     "data": {
      "image/png": "[encoded data removed]",
      "text/plain": [
       "<Figure size 432x288 with 1 Axes>"
      ]
     },
     "metadata": {},
     "output_type": "display_data"
    }
   ],
   "source": [
    "sns.distplot(company['Active_Days']) \n",
    "plt.show()"
   ]
  },
  {
   "cell_type": "code",
   "execution_count": 74,
   "id": "79e70e4b",
   "metadata": {},
   "outputs": [
    {
     "data": {
      "image/png": "[encoded data removed]",
      "text/plain": [
       "<Figure size 432x288 with 1 Axes>"
      ]
     },
     "metadata": {},
     "output_type": "display_data"
    }
   ],
   "source": [
    "sns.distplot(company['funding_total_usd']) \n",
    "plt.show()"
   ]
  },
  {
   "cell_type": "code",
   "execution_count": 75,
   "id": "f993fed7",
   "metadata": {},
   "outputs": [
    {
     "data": {
      "image/png": "[encoded data removed]",
      "text/plain": [
       "<Figure size 576x576 with 1 Axes>"
      ]
     },
     "metadata": {},
     "output_type": "display_data"
    }
   ],
   "source": [
    "fig, ax = plt.subplots(figsize=(8, 8))\n",
    "company['category_code'].value_counts().plot(kind=\"pie\", autopct=\"%.2f\")\n",
    "plt.show()"
   ]
  },
  {
   "cell_type": "code",
   "execution_count": 76,
   "id": "afa783c8",
   "metadata": {},
   "outputs": [
    {
     "data": {
      "image/png": "[encoded data removed]",
      "text/plain": [
       "<Figure size 576x576 with 1 Axes>"
      ]
     },
     "metadata": {},
     "output_type": "display_data"
    }
   ],
   "source": [
    "fig, ax = plt.subplots(figsize=(8, 8))\n",
    "company['country_code'].value_counts().plot(kind=\"pie\", autopct=\"%.2f\")\n",
    "plt.show()"
   ]
  },
  {
   "cell_type": "code",
   "execution_count": 77,
   "id": "b1a1bb46",
   "metadata": {},
   "outputs": [
    {
     "data": {
      "text/plain": [
       "array([[<AxesSubplot:xlabel='isClosed', ylabel='isClosed'>,\n",
       "        <AxesSubplot:xlabel='Active_Days', ylabel='isClosed'>,\n",
       "        <AxesSubplot:xlabel='milestones', ylabel='isClosed'>,\n",
       "        <AxesSubplot:xlabel='relationships', ylabel='isClosed'>,\n",
       "        <AxesSubplot:xlabel='funding_rounds', ylabel='isClosed'>],\n",
       "       [<AxesSubplot:xlabel='isClosed', ylabel='Active_Days'>,\n",
       "        <AxesSubplot:xlabel='Active_Days', ylabel='Active_Days'>,\n",
       "        <AxesSubplot:xlabel='milestones', ylabel='Active_Days'>,\n",
       "        <AxesSubplot:xlabel='relationships', ylabel='Active_Days'>,\n",
       "        <AxesSubplot:xlabel='funding_rounds', ylabel='Active_Days'>],\n",
       "       [<AxesSubplot:xlabel='isClosed', ylabel='milestones'>,\n",
       "        <AxesSubplot:xlabel='Active_Days', ylabel='milestones'>,\n",
       "        <AxesSubplot:xlabel='milestones', ylabel='milestones'>,\n",
       "        <AxesSubplot:xlabel='relationships', ylabel='milestones'>,\n",
       "        <AxesSubplot:xlabel='funding_rounds', ylabel='milestones'>],\n",
       "       [<AxesSubplot:xlabel='isClosed', ylabel='relationships'>,\n",
       "        <AxesSubplot:xlabel='Active_Days', ylabel='relationships'>,\n",
       "        <AxesSubplot:xlabel='milestones', ylabel='relationships'>,\n",
       "        <AxesSubplot:xlabel='relationships', ylabel='relationships'>,\n",
       "        <AxesSubplot:xlabel='funding_rounds', ylabel='relationships'>],\n",
       "       [<AxesSubplot:xlabel='isClosed', ylabel='funding_rounds'>,\n",
       "        <AxesSubplot:xlabel='Active_Days', ylabel='funding_rounds'>,\n",
       "        <AxesSubplot:xlabel='milestones', ylabel='funding_rounds'>,\n",
       "        <AxesSubplot:xlabel='relationships', ylabel='funding_rounds'>,\n",
       "        <AxesSubplot:xlabel='funding_rounds', ylabel='funding_rounds'>]],\n",
       "      dtype=object)"
      ]
     },
     "execution_count": 77,
     "metadata": {},
     "output_type": "execute_result"
    },
    {
     "data": {
      "image/png": "[encoded data removed]",
      "text/plain": [
       "<Figure size 864x576 with 25 Axes>"
      ]
     },
     "metadata": {},
     "output_type": "display_data"
    }
   ],
   "source": [
    "from pandas.plotting import scatter_matrix\n",
    "attributes = [\"isClosed\", \"Active_Days\", \"milestones\",\n",
    " \"relationships\",\"funding_rounds\"]\n",
    "scatter_matrix(company[attributes], figsize=(12, 8))"
   ]
  },
  {
   "cell_type": "code",
   "execution_count": 78,
   "id": "c44dc033",
   "metadata": {},
   "outputs": [
    {
     "name": "stderr",
     "output_type": "stream",
     "text": [
      "*c* argument looks like a single numeric RGB or RGBA sequence, which should be avoided as value-mapping will have precedence in case its length matches with *x* & *y*.  Please use the *color* keyword-argument or provide a 2D array with a single row if you intend to specify the same RGB or RGBA value for all points.\n"
     ]
    },
    {
     "data": {
      "text/plain": [
       "<AxesSubplot:xlabel='lng', ylabel='lat'>"
      ]
     },
     "execution_count": 78,
     "metadata": {},
     "output_type": "execute_result"
    },
    {
     "data": {
      "image/png": "[encoded data removed]",
      "text/plain": [
       "<Figure size 432x288 with 1 Axes>"
      ]
     },
     "metadata": {},
     "output_type": "display_data"
    }
   ],
   "source": [
    "company.plot(kind=\"scatter\", x=\"lng\", y=\"lat\")"
   ]
  },
  {
   "cell_type": "code",
   "execution_count": 79,
   "id": "bc39ddc5",
   "metadata": {},
   "outputs": [
    {
     "data": {
      "text/plain": [
       "<matplotlib.legend.Legend at 0x2ac3db0d8a0>"
      ]
     },
     "execution_count": 79,
     "metadata": {},
     "output_type": "execute_result"
    },
    {
     "data": {
      "image/png": "[encoded data removed]",
      "text/plain": [
       "<Figure size 720x504 with 2 Axes>"
      ]
     },
     "metadata": {},
     "output_type": "display_data"
    }
   ],
   "source": [
    "company.plot(kind=\"scatter\", x=\"lng\", y=\"lat\", alpha=0.4,\n",
    " s=company[\"isClosed\"], label=\"isClosed\", figsize=(10,7),\n",
    " c=\"funding_total_usd\", cmap=plt.get_cmap(\"jet\"), colorbar=True,\n",
    ")\n",
    "plt.legend()\n"
   ]
  },
  {
   "cell_type": "code",
   "execution_count": 80,
   "id": "67e4176a",
   "metadata": {},
   "outputs": [
    {
     "data": {
      "text/plain": [
       "<AxesSubplot:xlabel='Active_Days', ylabel='funding_total_usd'>"
      ]
     },
     "execution_count": 80,
     "metadata": {},
     "output_type": "execute_result"
    },
    {
     "data": {
      "image/png": "[encoded data removed]",
      "text/plain": [
       "<Figure size 432x288 with 1 Axes>"
      ]
     },
     "metadata": {},
     "output_type": "display_data"
    }
   ],
   "source": [
    "# bivariate \n",
    "sns.scatterplot(company[\"Active_Days\"], company[\"funding_total_usd\"], alpha=0.1)"
   ]
  },
  {
   "cell_type": "code",
   "execution_count": 81,
   "id": "bc08a47b",
   "metadata": {},
   "outputs": [
    {
     "data": {
      "text/plain": [
       "<AxesSubplot:xlabel='funding_total_usd', ylabel='milestones'>"
      ]
     },
     "execution_count": 81,
     "metadata": {},
     "output_type": "execute_result"
    },
    {
     "data": {
      "image/png": "[encoded data removed]",
      "text/plain": [
       "<Figure size 432x288 with 1 Axes>"
      ]
     },
     "metadata": {},
     "output_type": "display_data"
    }
   ],
   "source": [
    "sns.scatterplot(company[\"funding_total_usd\"], company[\"milestones\"])"
   ]
  },
  {
   "cell_type": "code",
   "execution_count": 82,
   "id": "651e4393",
   "metadata": {},
   "outputs": [
    {
     "data": {
      "text/plain": [
       "<AxesSubplot:xlabel='funding_total_usd', ylabel='milestones'>"
      ]
     },
     "execution_count": 82,
     "metadata": {},
     "output_type": "execute_result"
    },
    {
     "data": {
      "image/png": "[encoded data removed]",
      "text/plain": [
       "<Figure size 432x288 with 1 Axes>"
      ]
     },
     "metadata": {},
     "output_type": "display_data"
    }
   ],
   "source": [
    "sns.scatterplot(company[\"funding_total_usd\"], company[\"milestones\"])"
   ]
  },
  {
   "cell_type": "markdown",
   "id": "6d3b0b65",
   "metadata": {},
   "source": [
    "## Feature Engineeering\n",
    "\n",
    "\n",
    "    Step1 : Handling missing values\n",
    "    Step2 : Handling outliers\n",
    "    Step3 : Handling imbalanced data\n",
    "    Step4 : Handling corelation\n",
    "    Step5 : Feature scaling (if needed)"
   ]
  },
  {
   "cell_type": "markdown",
   "id": "2f154498",
   "metadata": {},
   "source": [
    "### Step1 : Handling missing values"
   ]
  },
  {
   "cell_type": "code",
   "execution_count": 83,
   "id": "010619b0",
   "metadata": {},
   "outputs": [
    {
     "data": {
      "text/plain": [
       "False"
      ]
     },
     "execution_count": 83,
     "metadata": {},
     "output_type": "execute_result"
    }
   ],
   "source": [
    "#check for missing values\n",
    "company.isnull().sum().any()"
   ]
  },
  {
   "cell_type": "markdown",
   "id": "443f393a",
   "metadata": {},
   "source": [
    "### Step2 : Handling outliers"
   ]
  },
  {
   "cell_type": "code",
   "execution_count": null,
   "id": "02842e77",
   "metadata": {},
   "outputs": [],
   "source": []
  },
  {
   "cell_type": "markdown",
   "id": "85065050",
   "metadata": {},
   "source": [
    "### Step 3: Handling imbanced data"
   ]
  },
  {
   "cell_type": "code",
   "execution_count": 84,
   "id": "216cc8fe",
   "metadata": {},
   "outputs": [],
   "source": [
    "# y=company[\"isClosed\"].copy()\n",
    "# X=company.drop('isClosed',axis=1).copy()"
   ]
  },
  {
   "cell_type": "code",
   "execution_count": 85,
   "id": "e36d4ed2",
   "metadata": {},
   "outputs": [],
   "source": [
    "# from sklearn.model_selection import train_test_split\n",
    "# X_train,X_test,y_train,y_test=train_test_split(X, y, train_size=0.8, random_state=42)"
   ]
  },
  {
   "cell_type": "code",
   "execution_count": 86,
   "id": "9f1a9c24",
   "metadata": {},
   "outputs": [],
   "source": [
    "# company['isClosed'].value_counts()"
   ]
  },
  {
   "cell_type": "code",
   "execution_count": 87,
   "id": "9bda468b",
   "metadata": {},
   "outputs": [],
   "source": [
    "# sns.countplot(company['isClosed'])"
   ]
  },
  {
   "cell_type": "code",
   "execution_count": 88,
   "id": "1a94bb07",
   "metadata": {},
   "outputs": [],
   "source": [
    "# from imblearn.over_sampling import RandomOverSampler\n",
    "# os=RandomOverSampler(sampling_strategy='all')"
   ]
  },
  {
   "cell_type": "code",
   "execution_count": 89,
   "id": "080f7eab",
   "metadata": {},
   "outputs": [],
   "source": [
    "# X_train_res,y_train_res=os.fit_resample(X_train,y_train)"
   ]
  },
  {
   "cell_type": "code",
   "execution_count": 90,
   "id": "6e093c25",
   "metadata": {},
   "outputs": [],
   "source": [
    "# from collections import Counter\n",
    "# print('Resampled dataset shape %s' % Counter(y_train_res))"
   ]
  },
  {
   "cell_type": "code",
   "execution_count": 91,
   "id": "6a1d36bb",
   "metadata": {},
   "outputs": [],
   "source": [
    "# ax=  y_train_res.value_counts().plot.pie(autopct='%.2f')"
   ]
  },
  {
   "cell_type": "code",
   "execution_count": 92,
   "id": "81dfdb7a",
   "metadata": {},
   "outputs": [
    {
     "data": {
      "text/html": [
       "<div>\n",
       "<style scoped>\n",
       "    .dataframe tbody tr th:only-of-type {\n",
       "        vertical-align: middle;\n",
       "    }\n",
       "\n",
       "    .dataframe tbody tr th {\n",
       "        vertical-align: top;\n",
       "    }\n",
       "\n",
       "    .dataframe thead th {\n",
       "        text-align: right;\n",
       "    }\n",
       "</style>\n",
       "<table border=\"1\" class=\"dataframe\">\n",
       "  <thead>\n",
       "    <tr style=\"text-align: right;\">\n",
       "      <th></th>\n",
       "      <th>category_code</th>\n",
       "      <th>status</th>\n",
       "      <th>founded_at</th>\n",
       "      <th>country_code</th>\n",
       "      <th>first_funding_at</th>\n",
       "      <th>last_funding_at</th>\n",
       "      <th>funding_rounds</th>\n",
       "      <th>funding_total_usd</th>\n",
       "      <th>first_milestone_at</th>\n",
       "      <th>last_milestone_at</th>\n",
       "      <th>milestones</th>\n",
       "      <th>relationships</th>\n",
       "      <th>lat</th>\n",
       "      <th>lng</th>\n",
       "      <th>isClosed</th>\n",
       "      <th>Active_Days</th>\n",
       "    </tr>\n",
       "  </thead>\n",
       "  <tbody>\n",
       "    <tr>\n",
       "      <th>5</th>\n",
       "      <td>advertising</td>\n",
       "      <td>operating</td>\n",
       "      <td>2007</td>\n",
       "      <td>other</td>\n",
       "      <td>2010.0</td>\n",
       "      <td>2011.0</td>\n",
       "      <td>1.0</td>\n",
       "      <td>3652912.0</td>\n",
       "      <td>2009.0</td>\n",
       "      <td>2009.0</td>\n",
       "      <td>1.0</td>\n",
       "      <td>2.0</td>\n",
       "      <td>30.427755</td>\n",
       "      <td>-9.598107</td>\n",
       "      <td>1</td>\n",
       "      <td>5110.0</td>\n",
       "    </tr>\n",
       "    <tr>\n",
       "      <th>6</th>\n",
       "      <td>other</td>\n",
       "      <td>operating</td>\n",
       "      <td>2008</td>\n",
       "      <td>IND</td>\n",
       "      <td>2010.0</td>\n",
       "      <td>2011.0</td>\n",
       "      <td>1.0</td>\n",
       "      <td>3652912.0</td>\n",
       "      <td>2009.0</td>\n",
       "      <td>2009.0</td>\n",
       "      <td>1.0</td>\n",
       "      <td>2.0</td>\n",
       "      <td>22.307159</td>\n",
       "      <td>73.181219</td>\n",
       "      <td>1</td>\n",
       "      <td>4745.0</td>\n",
       "    </tr>\n",
       "    <tr>\n",
       "      <th>12</th>\n",
       "      <td>advertising</td>\n",
       "      <td>operating</td>\n",
       "      <td>2008</td>\n",
       "      <td>USA</td>\n",
       "      <td>2010.0</td>\n",
       "      <td>2011.0</td>\n",
       "      <td>1.0</td>\n",
       "      <td>3652912.0</td>\n",
       "      <td>2008.0</td>\n",
       "      <td>2008.0</td>\n",
       "      <td>1.0</td>\n",
       "      <td>2.0</td>\n",
       "      <td>35.686975</td>\n",
       "      <td>-105.937799</td>\n",
       "      <td>1</td>\n",
       "      <td>4745.0</td>\n",
       "    </tr>\n",
       "    <tr>\n",
       "      <th>15</th>\n",
       "      <td>games_video</td>\n",
       "      <td>operating</td>\n",
       "      <td>2008</td>\n",
       "      <td>USA</td>\n",
       "      <td>2010.0</td>\n",
       "      <td>2011.0</td>\n",
       "      <td>1.0</td>\n",
       "      <td>3652912.0</td>\n",
       "      <td>2008.0</td>\n",
       "      <td>2008.0</td>\n",
       "      <td>1.0</td>\n",
       "      <td>3.0</td>\n",
       "      <td>33.078655</td>\n",
       "      <td>-116.601964</td>\n",
       "      <td>1</td>\n",
       "      <td>4745.0</td>\n",
       "    </tr>\n",
       "    <tr>\n",
       "      <th>20</th>\n",
       "      <td>other</td>\n",
       "      <td>operating</td>\n",
       "      <td>2003</td>\n",
       "      <td>USA</td>\n",
       "      <td>2011.0</td>\n",
       "      <td>2012.0</td>\n",
       "      <td>3.0</td>\n",
       "      <td>10125293.0</td>\n",
       "      <td>2010.0</td>\n",
       "      <td>2010.0</td>\n",
       "      <td>1.0</td>\n",
       "      <td>6.0</td>\n",
       "      <td>30.267153</td>\n",
       "      <td>-97.743061</td>\n",
       "      <td>1</td>\n",
       "      <td>6570.0</td>\n",
       "    </tr>\n",
       "    <tr>\n",
       "      <th>...</th>\n",
       "      <td>...</td>\n",
       "      <td>...</td>\n",
       "      <td>...</td>\n",
       "      <td>...</td>\n",
       "      <td>...</td>\n",
       "      <td>...</td>\n",
       "      <td>...</td>\n",
       "      <td>...</td>\n",
       "      <td>...</td>\n",
       "      <td>...</td>\n",
       "      <td>...</td>\n",
       "      <td>...</td>\n",
       "      <td>...</td>\n",
       "      <td>...</td>\n",
       "      <td>...</td>\n",
       "      <td>...</td>\n",
       "    </tr>\n",
       "    <tr>\n",
       "      <th>196543</th>\n",
       "      <td>other</td>\n",
       "      <td>operating</td>\n",
       "      <td>2008</td>\n",
       "      <td>USA</td>\n",
       "      <td>2010.0</td>\n",
       "      <td>2011.0</td>\n",
       "      <td>1.0</td>\n",
       "      <td>3652912.0</td>\n",
       "      <td>2011.0</td>\n",
       "      <td>2011.0</td>\n",
       "      <td>1.0</td>\n",
       "      <td>5.0</td>\n",
       "      <td>38.846224</td>\n",
       "      <td>-77.306373</td>\n",
       "      <td>1</td>\n",
       "      <td>4745.0</td>\n",
       "    </tr>\n",
       "    <tr>\n",
       "      <th>196545</th>\n",
       "      <td>software</td>\n",
       "      <td>operating</td>\n",
       "      <td>2004</td>\n",
       "      <td>USA</td>\n",
       "      <td>2010.0</td>\n",
       "      <td>2011.0</td>\n",
       "      <td>1.0</td>\n",
       "      <td>3652912.0</td>\n",
       "      <td>2009.0</td>\n",
       "      <td>2009.0</td>\n",
       "      <td>1.0</td>\n",
       "      <td>2.0</td>\n",
       "      <td>40.748350</td>\n",
       "      <td>-74.323219</td>\n",
       "      <td>1</td>\n",
       "      <td>6205.0</td>\n",
       "    </tr>\n",
       "    <tr>\n",
       "      <th>196548</th>\n",
       "      <td>ecommerce</td>\n",
       "      <td>operating</td>\n",
       "      <td>2007</td>\n",
       "      <td>USA</td>\n",
       "      <td>2010.0</td>\n",
       "      <td>2011.0</td>\n",
       "      <td>1.0</td>\n",
       "      <td>3652912.0</td>\n",
       "      <td>2013.0</td>\n",
       "      <td>2013.0</td>\n",
       "      <td>2.0</td>\n",
       "      <td>5.0</td>\n",
       "      <td>37.774929</td>\n",
       "      <td>-122.419415</td>\n",
       "      <td>1</td>\n",
       "      <td>5110.0</td>\n",
       "    </tr>\n",
       "    <tr>\n",
       "      <th>196551</th>\n",
       "      <td>search</td>\n",
       "      <td>operating</td>\n",
       "      <td>2008</td>\n",
       "      <td>USA</td>\n",
       "      <td>2010.0</td>\n",
       "      <td>2011.0</td>\n",
       "      <td>1.0</td>\n",
       "      <td>3652912.0</td>\n",
       "      <td>2009.0</td>\n",
       "      <td>2009.0</td>\n",
       "      <td>1.0</td>\n",
       "      <td>1.0</td>\n",
       "      <td>34.052234</td>\n",
       "      <td>-118.243685</td>\n",
       "      <td>1</td>\n",
       "      <td>4745.0</td>\n",
       "    </tr>\n",
       "    <tr>\n",
       "      <th>196552</th>\n",
       "      <td>ecommerce</td>\n",
       "      <td>operating</td>\n",
       "      <td>2007</td>\n",
       "      <td>USA</td>\n",
       "      <td>2008.0</td>\n",
       "      <td>2008.0</td>\n",
       "      <td>1.0</td>\n",
       "      <td>475000.0</td>\n",
       "      <td>2006.0</td>\n",
       "      <td>2008.0</td>\n",
       "      <td>2.0</td>\n",
       "      <td>1.0</td>\n",
       "      <td>34.035633</td>\n",
       "      <td>-118.515590</td>\n",
       "      <td>1</td>\n",
       "      <td>5110.0</td>\n",
       "    </tr>\n",
       "  </tbody>\n",
       "</table>\n",
       "<p>53592 rows × 16 columns</p>\n",
       "</div>"
      ],
      "text/plain": [
       "       category_code     status  founded_at country_code  first_funding_at  \\\n",
       "5        advertising  operating        2007        other            2010.0   \n",
       "6              other  operating        2008          IND            2010.0   \n",
       "12       advertising  operating        2008          USA            2010.0   \n",
       "15       games_video  operating        2008          USA            2010.0   \n",
       "20             other  operating        2003          USA            2011.0   \n",
       "...              ...        ...         ...          ...               ...   \n",
       "196543         other  operating        2008          USA            2010.0   \n",
       "196545      software  operating        2004          USA            2010.0   \n",
       "196548     ecommerce  operating        2007          USA            2010.0   \n",
       "196551        search  operating        2008          USA            2010.0   \n",
       "196552     ecommerce  operating        2007          USA            2008.0   \n",
       "\n",
       "        last_funding_at  funding_rounds  funding_total_usd  \\\n",
       "5                2011.0             1.0          3652912.0   \n",
       "6                2011.0             1.0          3652912.0   \n",
       "12               2011.0             1.0          3652912.0   \n",
       "15               2011.0             1.0          3652912.0   \n",
       "20               2012.0             3.0         10125293.0   \n",
       "...                 ...             ...                ...   \n",
       "196543           2011.0             1.0          3652912.0   \n",
       "196545           2011.0             1.0          3652912.0   \n",
       "196548           2011.0             1.0          3652912.0   \n",
       "196551           2011.0             1.0          3652912.0   \n",
       "196552           2008.0             1.0           475000.0   \n",
       "\n",
       "        first_milestone_at  last_milestone_at  milestones  relationships  \\\n",
       "5                   2009.0             2009.0         1.0            2.0   \n",
       "6                   2009.0             2009.0         1.0            2.0   \n",
       "12                  2008.0             2008.0         1.0            2.0   \n",
       "15                  2008.0             2008.0         1.0            3.0   \n",
       "20                  2010.0             2010.0         1.0            6.0   \n",
       "...                    ...                ...         ...            ...   \n",
       "196543              2011.0             2011.0         1.0            5.0   \n",
       "196545              2009.0             2009.0         1.0            2.0   \n",
       "196548              2013.0             2013.0         2.0            5.0   \n",
       "196551              2009.0             2009.0         1.0            1.0   \n",
       "196552              2006.0             2008.0         2.0            1.0   \n",
       "\n",
       "              lat         lng  isClosed  Active_Days  \n",
       "5       30.427755   -9.598107         1       5110.0  \n",
       "6       22.307159   73.181219         1       4745.0  \n",
       "12      35.686975 -105.937799         1       4745.0  \n",
       "15      33.078655 -116.601964         1       4745.0  \n",
       "20      30.267153  -97.743061         1       6570.0  \n",
       "...           ...         ...       ...          ...  \n",
       "196543  38.846224  -77.306373         1       4745.0  \n",
       "196545  40.748350  -74.323219         1       6205.0  \n",
       "196548  37.774929 -122.419415         1       5110.0  \n",
       "196551  34.052234 -118.243685         1       4745.0  \n",
       "196552  34.035633 -118.515590         1       5110.0  \n",
       "\n",
       "[53592 rows x 16 columns]"
      ]
     },
     "execution_count": 92,
     "metadata": {},
     "output_type": "execute_result"
    }
   ],
   "source": [
    "company"
   ]
  },
  {
   "cell_type": "markdown",
   "id": "17d851af",
   "metadata": {},
   "source": [
    "# looking for corelation"
   ]
  },
  {
   "cell_type": "code",
   "execution_count": 93,
   "id": "f26873a5",
   "metadata": {},
   "outputs": [],
   "source": [
    "corr_matrix = company.corr()"
   ]
  },
  {
   "cell_type": "code",
   "execution_count": 94,
   "id": "f60894c4",
   "metadata": {},
   "outputs": [
    {
     "data": {
      "text/plain": [
       "isClosed              1.000000\n",
       "last_funding_at       0.214081\n",
       "Active_Days           0.179535\n",
       "first_funding_at      0.156054\n",
       "lng                   0.030932\n",
       "first_milestone_at    0.016711\n",
       "funding_total_usd     0.015043\n",
       "last_milestone_at     0.004621\n",
       "lat                  -0.013143\n",
       "founded_at           -0.014556\n",
       "relationships        -0.030323\n",
       "funding_rounds       -0.052826\n",
       "milestones           -0.063817\n",
       "Name: isClosed, dtype: float64"
      ]
     },
     "execution_count": 94,
     "metadata": {},
     "output_type": "execute_result"
    }
   ],
   "source": [
    "corr_matrix[\"isClosed\"].sort_values(ascending=False)"
   ]
  },
  {
   "cell_type": "markdown",
   "id": "2a5dc988",
   "metadata": {},
   "source": [
    "### Step 4: Handling corelation"
   ]
  },
  {
   "cell_type": "code",
   "execution_count": 95,
   "id": "a6d8e67c",
   "metadata": {},
   "outputs": [],
   "source": [
    "#Using Pearson Correlation\n",
    "# plt.figure(figsize=(20,20))\n",
    "# cor = company.corr()\n",
    "# sns.heatmap(cor, annot=True, cmap=plt.cm.CMRmap_r)\n",
    "# plt.show()"
   ]
  },
  {
   "cell_type": "code",
   "execution_count": 96,
   "id": "d6b85bb1",
   "metadata": {},
   "outputs": [],
   "source": [
    "# def correlation(dataset, threshold):\n",
    "#     col_corr = set()  # Set of all the names of correlated columns\n",
    "#     corr_matrix = dataset.corr()\n",
    "#     for i in range(len(corr_matrix.columns)):\n",
    "#         for j in range(i):\n",
    "#             if (corr_matrix.iloc[i, j]) > threshold: # we are interested in absolute coeff value\n",
    "#                 colname = corr_matrix.columns[i]  # getting the name of column\n",
    "#                 col_corr.add(colname)\n",
    "#     return col_corr"
   ]
  },
  {
   "cell_type": "code",
   "execution_count": 97,
   "id": "9038502b",
   "metadata": {},
   "outputs": [],
   "source": [
    "# corr_features = correlation(company, 0.7)\n",
    "# len(set(corr_features))"
   ]
  },
  {
   "cell_type": "code",
   "execution_count": 98,
   "id": "ae70950d",
   "metadata": {},
   "outputs": [],
   "source": [
    "# corr_features"
   ]
  },
  {
   "cell_type": "code",
   "execution_count": 99,
   "id": "bdf3756e",
   "metadata": {},
   "outputs": [],
   "source": [
    "# company.drop(corr_features,axis=1)"
   ]
  },
  {
   "cell_type": "markdown",
   "id": "cbb9eedd",
   "metadata": {},
   "source": [
    "### hot-code encoading"
   ]
  },
  {
   "cell_type": "code",
   "execution_count": 100,
   "id": "e8b98b5a",
   "metadata": {},
   "outputs": [],
   "source": [
    "# One-hot encoding to category_code\n",
    "# dummies = pd.get_dummies(company.category_code, prefix='category')\n",
    "# dummies"
   ]
  },
  {
   "cell_type": "code",
   "execution_count": 101,
   "id": "df6eb06f",
   "metadata": {},
   "outputs": [],
   "source": [
    "# Concatenate category with company dataset\n",
    "# company = pd.concat([company,dummies],axis='columns')\n",
    "# company"
   ]
  },
  {
   "cell_type": "code",
   "execution_count": 102,
   "id": "87e1a378",
   "metadata": {},
   "outputs": [],
   "source": [
    "# Since, We've added the encoded country_code , let's delete original category_code\n",
    "company.drop(['category_code'], axis=1,inplace=True)"
   ]
  },
  {
   "cell_type": "code",
   "execution_count": 103,
   "id": "6ce8ccd5",
   "metadata": {},
   "outputs": [],
   "source": [
    "# One-hot encoding to category_code\n",
    "# dummies = pd.get_dummies(company.country_code, prefix='country')\n",
    "# dummies"
   ]
  },
  {
   "cell_type": "code",
   "execution_count": 104,
   "id": "c316d05d",
   "metadata": {},
   "outputs": [],
   "source": [
    "# Concatenate category with company dataset\n",
    "# company = pd.concat([company,dummies],axis='columns')\n",
    "# company"
   ]
  },
  {
   "cell_type": "code",
   "execution_count": 105,
   "id": "64680c7f",
   "metadata": {},
   "outputs": [],
   "source": [
    "# Since, We've added the encoded country_code , let's delete original category_code\n",
    "company.drop(['country_code'], axis=1,inplace=True)"
   ]
  },
  {
   "cell_type": "code",
   "execution_count": 106,
   "id": "f80eaca3",
   "metadata": {},
   "outputs": [],
   "source": [
    "company.drop(['status'], axis=1,inplace=True)"
   ]
  },
  {
   "cell_type": "markdown",
   "id": "36734ae3",
   "metadata": {},
   "source": [
    "#### min max scaler"
   ]
  },
  {
   "cell_type": "code",
   "execution_count": 107,
   "id": "c080f15e",
   "metadata": {},
   "outputs": [
    {
     "data": {
      "text/plain": [
       "array([1., 1., 1., 1., 1., 1., 1., 1., 1., 1., 1., 1.])"
      ]
     },
     "execution_count": 107,
     "metadata": {},
     "output_type": "execute_result"
    }
   ],
   "source": [
    "from sklearn.preprocessing import MinMaxScaler\n",
    "\n",
    "X = company.drop('isClosed', axis=1) # features\n",
    "y = company.isClosed\n",
    "# use the iris dataset\n",
    "#X, y = load_iris(return_X_y=True)\n",
    "#print(X.shape)\n",
    "# (150, 4) # 150 samples (rows) with 4 features/variables (columns)\n",
    "# build the scaler model\n",
    "scaler = MinMaxScaler()\n",
    "# fit using the train set\n",
    "scaler.fit(X)\n",
    "# transform the test test\n",
    "X_scaled = scaler.transform(X)\n",
    "# Verify minimum value of all features\n",
    "X_scaled.min(axis=0)\n",
    "# array([0., 0., 0., 0.])\n",
    "# Verify maximum value of all features\n",
    "X_scaled.max(axis=0)\n",
    "# array([1., 1., 1., 1.])"
   ]
  },
  {
   "cell_type": "code",
   "execution_count": 108,
   "id": "25b0b577",
   "metadata": {},
   "outputs": [
    {
     "data": {
      "text/html": [
       "<div>\n",
       "<style scoped>\n",
       "    .dataframe tbody tr th:only-of-type {\n",
       "        vertical-align: middle;\n",
       "    }\n",
       "\n",
       "    .dataframe tbody tr th {\n",
       "        vertical-align: top;\n",
       "    }\n",
       "\n",
       "    .dataframe thead th {\n",
       "        text-align: right;\n",
       "    }\n",
       "</style>\n",
       "<table border=\"1\" class=\"dataframe\">\n",
       "  <thead>\n",
       "    <tr style=\"text-align: right;\">\n",
       "      <th></th>\n",
       "      <th>founded_at</th>\n",
       "      <th>first_funding_at</th>\n",
       "      <th>last_funding_at</th>\n",
       "      <th>funding_rounds</th>\n",
       "      <th>funding_total_usd</th>\n",
       "      <th>first_milestone_at</th>\n",
       "      <th>last_milestone_at</th>\n",
       "      <th>milestones</th>\n",
       "      <th>relationships</th>\n",
       "      <th>lat</th>\n",
       "      <th>lng</th>\n",
       "      <th>isClosed</th>\n",
       "      <th>Active_Days</th>\n",
       "    </tr>\n",
       "  </thead>\n",
       "  <tbody>\n",
       "    <tr>\n",
       "      <th>5</th>\n",
       "      <td>2007</td>\n",
       "      <td>2010.0</td>\n",
       "      <td>2011.0</td>\n",
       "      <td>1.0</td>\n",
       "      <td>3652912.0</td>\n",
       "      <td>2009.0</td>\n",
       "      <td>2009.0</td>\n",
       "      <td>1.0</td>\n",
       "      <td>2.0</td>\n",
       "      <td>30.427755</td>\n",
       "      <td>-9.598107</td>\n",
       "      <td>1</td>\n",
       "      <td>5110.0</td>\n",
       "    </tr>\n",
       "    <tr>\n",
       "      <th>6</th>\n",
       "      <td>2008</td>\n",
       "      <td>2010.0</td>\n",
       "      <td>2011.0</td>\n",
       "      <td>1.0</td>\n",
       "      <td>3652912.0</td>\n",
       "      <td>2009.0</td>\n",
       "      <td>2009.0</td>\n",
       "      <td>1.0</td>\n",
       "      <td>2.0</td>\n",
       "      <td>22.307159</td>\n",
       "      <td>73.181219</td>\n",
       "      <td>1</td>\n",
       "      <td>4745.0</td>\n",
       "    </tr>\n",
       "    <tr>\n",
       "      <th>12</th>\n",
       "      <td>2008</td>\n",
       "      <td>2010.0</td>\n",
       "      <td>2011.0</td>\n",
       "      <td>1.0</td>\n",
       "      <td>3652912.0</td>\n",
       "      <td>2008.0</td>\n",
       "      <td>2008.0</td>\n",
       "      <td>1.0</td>\n",
       "      <td>2.0</td>\n",
       "      <td>35.686975</td>\n",
       "      <td>-105.937799</td>\n",
       "      <td>1</td>\n",
       "      <td>4745.0</td>\n",
       "    </tr>\n",
       "    <tr>\n",
       "      <th>15</th>\n",
       "      <td>2008</td>\n",
       "      <td>2010.0</td>\n",
       "      <td>2011.0</td>\n",
       "      <td>1.0</td>\n",
       "      <td>3652912.0</td>\n",
       "      <td>2008.0</td>\n",
       "      <td>2008.0</td>\n",
       "      <td>1.0</td>\n",
       "      <td>3.0</td>\n",
       "      <td>33.078655</td>\n",
       "      <td>-116.601964</td>\n",
       "      <td>1</td>\n",
       "      <td>4745.0</td>\n",
       "    </tr>\n",
       "    <tr>\n",
       "      <th>20</th>\n",
       "      <td>2003</td>\n",
       "      <td>2011.0</td>\n",
       "      <td>2012.0</td>\n",
       "      <td>3.0</td>\n",
       "      <td>10125293.0</td>\n",
       "      <td>2010.0</td>\n",
       "      <td>2010.0</td>\n",
       "      <td>1.0</td>\n",
       "      <td>6.0</td>\n",
       "      <td>30.267153</td>\n",
       "      <td>-97.743061</td>\n",
       "      <td>1</td>\n",
       "      <td>6570.0</td>\n",
       "    </tr>\n",
       "    <tr>\n",
       "      <th>...</th>\n",
       "      <td>...</td>\n",
       "      <td>...</td>\n",
       "      <td>...</td>\n",
       "      <td>...</td>\n",
       "      <td>...</td>\n",
       "      <td>...</td>\n",
       "      <td>...</td>\n",
       "      <td>...</td>\n",
       "      <td>...</td>\n",
       "      <td>...</td>\n",
       "      <td>...</td>\n",
       "      <td>...</td>\n",
       "      <td>...</td>\n",
       "    </tr>\n",
       "    <tr>\n",
       "      <th>196543</th>\n",
       "      <td>2008</td>\n",
       "      <td>2010.0</td>\n",
       "      <td>2011.0</td>\n",
       "      <td>1.0</td>\n",
       "      <td>3652912.0</td>\n",
       "      <td>2011.0</td>\n",
       "      <td>2011.0</td>\n",
       "      <td>1.0</td>\n",
       "      <td>5.0</td>\n",
       "      <td>38.846224</td>\n",
       "      <td>-77.306373</td>\n",
       "      <td>1</td>\n",
       "      <td>4745.0</td>\n",
       "    </tr>\n",
       "    <tr>\n",
       "      <th>196545</th>\n",
       "      <td>2004</td>\n",
       "      <td>2010.0</td>\n",
       "      <td>2011.0</td>\n",
       "      <td>1.0</td>\n",
       "      <td>3652912.0</td>\n",
       "      <td>2009.0</td>\n",
       "      <td>2009.0</td>\n",
       "      <td>1.0</td>\n",
       "      <td>2.0</td>\n",
       "      <td>40.748350</td>\n",
       "      <td>-74.323219</td>\n",
       "      <td>1</td>\n",
       "      <td>6205.0</td>\n",
       "    </tr>\n",
       "    <tr>\n",
       "      <th>196548</th>\n",
       "      <td>2007</td>\n",
       "      <td>2010.0</td>\n",
       "      <td>2011.0</td>\n",
       "      <td>1.0</td>\n",
       "      <td>3652912.0</td>\n",
       "      <td>2013.0</td>\n",
       "      <td>2013.0</td>\n",
       "      <td>2.0</td>\n",
       "      <td>5.0</td>\n",
       "      <td>37.774929</td>\n",
       "      <td>-122.419415</td>\n",
       "      <td>1</td>\n",
       "      <td>5110.0</td>\n",
       "    </tr>\n",
       "    <tr>\n",
       "      <th>196551</th>\n",
       "      <td>2008</td>\n",
       "      <td>2010.0</td>\n",
       "      <td>2011.0</td>\n",
       "      <td>1.0</td>\n",
       "      <td>3652912.0</td>\n",
       "      <td>2009.0</td>\n",
       "      <td>2009.0</td>\n",
       "      <td>1.0</td>\n",
       "      <td>1.0</td>\n",
       "      <td>34.052234</td>\n",
       "      <td>-118.243685</td>\n",
       "      <td>1</td>\n",
       "      <td>4745.0</td>\n",
       "    </tr>\n",
       "    <tr>\n",
       "      <th>196552</th>\n",
       "      <td>2007</td>\n",
       "      <td>2008.0</td>\n",
       "      <td>2008.0</td>\n",
       "      <td>1.0</td>\n",
       "      <td>475000.0</td>\n",
       "      <td>2006.0</td>\n",
       "      <td>2008.0</td>\n",
       "      <td>2.0</td>\n",
       "      <td>1.0</td>\n",
       "      <td>34.035633</td>\n",
       "      <td>-118.515590</td>\n",
       "      <td>1</td>\n",
       "      <td>5110.0</td>\n",
       "    </tr>\n",
       "  </tbody>\n",
       "</table>\n",
       "<p>53592 rows × 13 columns</p>\n",
       "</div>"
      ],
      "text/plain": [
       "        founded_at  first_funding_at  last_funding_at  funding_rounds  \\\n",
       "5             2007            2010.0           2011.0             1.0   \n",
       "6             2008            2010.0           2011.0             1.0   \n",
       "12            2008            2010.0           2011.0             1.0   \n",
       "15            2008            2010.0           2011.0             1.0   \n",
       "20            2003            2011.0           2012.0             3.0   \n",
       "...            ...               ...              ...             ...   \n",
       "196543        2008            2010.0           2011.0             1.0   \n",
       "196545        2004            2010.0           2011.0             1.0   \n",
       "196548        2007            2010.0           2011.0             1.0   \n",
       "196551        2008            2010.0           2011.0             1.0   \n",
       "196552        2007            2008.0           2008.0             1.0   \n",
       "\n",
       "        funding_total_usd  first_milestone_at  last_milestone_at  milestones  \\\n",
       "5               3652912.0              2009.0             2009.0         1.0   \n",
       "6               3652912.0              2009.0             2009.0         1.0   \n",
       "12              3652912.0              2008.0             2008.0         1.0   \n",
       "15              3652912.0              2008.0             2008.0         1.0   \n",
       "20             10125293.0              2010.0             2010.0         1.0   \n",
       "...                   ...                 ...                ...         ...   \n",
       "196543          3652912.0              2011.0             2011.0         1.0   \n",
       "196545          3652912.0              2009.0             2009.0         1.0   \n",
       "196548          3652912.0              2013.0             2013.0         2.0   \n",
       "196551          3652912.0              2009.0             2009.0         1.0   \n",
       "196552           475000.0              2006.0             2008.0         2.0   \n",
       "\n",
       "        relationships        lat         lng  isClosed  Active_Days  \n",
       "5                 2.0  30.427755   -9.598107         1       5110.0  \n",
       "6                 2.0  22.307159   73.181219         1       4745.0  \n",
       "12                2.0  35.686975 -105.937799         1       4745.0  \n",
       "15                3.0  33.078655 -116.601964         1       4745.0  \n",
       "20                6.0  30.267153  -97.743061         1       6570.0  \n",
       "...               ...        ...         ...       ...          ...  \n",
       "196543            5.0  38.846224  -77.306373         1       4745.0  \n",
       "196545            2.0  40.748350  -74.323219         1       6205.0  \n",
       "196548            5.0  37.774929 -122.419415         1       5110.0  \n",
       "196551            1.0  34.052234 -118.243685         1       4745.0  \n",
       "196552            1.0  34.035633 -118.515590         1       5110.0  \n",
       "\n",
       "[53592 rows x 13 columns]"
      ]
     },
     "execution_count": 108,
     "metadata": {},
     "output_type": "execute_result"
    }
   ],
   "source": [
    "company"
   ]
  },
  {
   "cell_type": "code",
   "execution_count": 109,
   "id": "f4059f0f",
   "metadata": {},
   "outputs": [
    {
     "data": {
      "text/plain": [
       "Index(['founded_at', 'first_funding_at', 'last_funding_at', 'funding_rounds',\n",
       "       'funding_total_usd', 'first_milestone_at', 'last_milestone_at',\n",
       "       'milestones', 'relationships', 'lat', 'lng', 'isClosed', 'Active_Days'],\n",
       "      dtype='object')"
      ]
     },
     "execution_count": 109,
     "metadata": {},
     "output_type": "execute_result"
    }
   ],
   "source": [
    "company.columns"
   ]
  },
  {
   "cell_type": "markdown",
   "id": "93618b35",
   "metadata": {},
   "source": [
    "## Building Your Model"
   ]
  },
  {
   "cell_type": "markdown",
   "id": "332e03ce",
   "metadata": {},
   "source": [
    "### Logistic Regression"
   ]
  },
  {
   "cell_type": "code",
   "execution_count": 110,
   "id": "4d1c47a8",
   "metadata": {},
   "outputs": [],
   "source": [
    "from sklearn.model_selection import train_test_split\n",
    "train_X, val_X, train_y, val_y = train_test_split(X, y,test_size=0.2, random_state = 42)"
   ]
  },
  {
   "cell_type": "code",
   "execution_count": 111,
   "id": "3bdf060b",
   "metadata": {},
   "outputs": [
    {
     "data": {
      "text/plain": [
       "LogisticRegression()"
      ]
     },
     "execution_count": 111,
     "metadata": {},
     "output_type": "execute_result"
    }
   ],
   "source": [
    "from sklearn.linear_model import LogisticRegression\n",
    "log_reg = LogisticRegression()\n",
    "log_reg.fit(train_X, train_y)"
   ]
  },
  {
   "cell_type": "code",
   "execution_count": 112,
   "id": "c2132670",
   "metadata": {},
   "outputs": [
    {
     "data": {
      "text/plain": [
       "0.005831175798287967"
      ]
     },
     "execution_count": 112,
     "metadata": {},
     "output_type": "execute_result"
    }
   ],
   "source": [
    "# testing on training set\n",
    "from sklearn.metrics import mean_absolute_error\n",
    "prediction = log_reg.predict(train_X)\n",
    "mean_absolute_error(train_y, prediction)"
   ]
  },
  {
   "cell_type": "code",
   "execution_count": 113,
   "id": "633ff325",
   "metadata": {},
   "outputs": [
    {
     "data": {
      "text/plain": [
       "0.007090213639332027"
      ]
     },
     "execution_count": 113,
     "metadata": {},
     "output_type": "execute_result"
    }
   ],
   "source": [
    "#testing on tesing set\n",
    "prediction = log_reg.predict(val_X)\n",
    "mean_absolute_error(val_y, prediction)"
   ]
  },
  {
   "cell_type": "code",
   "execution_count": 114,
   "id": "b624e611",
   "metadata": {},
   "outputs": [],
   "source": [
    "# #RMSE\n",
    "# from sklearn.metrics import mean_squared_error\n",
    "# prediction = log_reg.predict(val_X)\n",
    "# lin_mse = mean_squared_error(val_y, prediction)\n",
    "# lin_rmse = np.sqrt(log_reg)\n",
    "# lin_rmse\n"
   ]
  },
  {
   "cell_type": "markdown",
   "id": "af03aeea",
   "metadata": {},
   "source": [
    "### XG Boost"
   ]
  },
  {
   "cell_type": "code",
   "execution_count": 115,
   "id": "78cb00ac",
   "metadata": {},
   "outputs": [
    {
     "data": {
      "text/plain": [
       "XGBRegressor(base_score=0.5, booster='gbtree', callbacks=None,\n",
       "             colsample_bylevel=1, colsample_bynode=1, colsample_bytree=1,\n",
       "             early_stopping_rounds=None, enable_categorical=False,\n",
       "             eval_metric=None, gamma=0, gpu_id=-1, grow_policy='depthwise',\n",
       "             importance_type=None, interaction_constraints='',\n",
       "             learning_rate=0.300000012, max_bin=256, max_cat_to_onehot=4,\n",
       "             max_delta_step=0, max_depth=6, max_leaves=0, min_child_weight=1,\n",
       "             missing=nan, monotone_constraints='()', n_estimators=100, n_jobs=0,\n",
       "             num_parallel_tree=1, predictor='auto', random_state=0, reg_alpha=0,\n",
       "             reg_lambda=1, ...)"
      ]
     },
     "execution_count": 115,
     "metadata": {},
     "output_type": "execute_result"
    }
   ],
   "source": [
    "from xgboost import XGBRegressor\n",
    "\n",
    "xgb_reg = XGBRegressor()\n",
    "xgb_reg.fit(train_X, train_y)"
   ]
  },
  {
   "cell_type": "code",
   "execution_count": 116,
   "id": "5afe879f",
   "metadata": {},
   "outputs": [
    {
     "data": {
      "text/plain": [
       "9.42471222540597e-05"
      ]
     },
     "execution_count": 116,
     "metadata": {},
     "output_type": "execute_result"
    }
   ],
   "source": [
    "# testing on training set\n",
    "from sklearn.metrics import mean_absolute_error\n",
    "prediction = xgb_reg.predict(train_X)\n",
    "mean_absolute_error(train_y, prediction)"
   ]
  },
  {
   "cell_type": "code",
   "execution_count": 117,
   "id": "3473cb2c",
   "metadata": {},
   "outputs": [
    {
     "data": {
      "text/plain": [
       "0.0009946729665635868"
      ]
     },
     "execution_count": 117,
     "metadata": {},
     "output_type": "execute_result"
    }
   ],
   "source": [
    "#testing on tesing set\n",
    "prediction = xgb_reg.predict(val_X)\n",
    "mean_absolute_error(val_y, prediction)"
   ]
  },
  {
   "cell_type": "code",
   "execution_count": 118,
   "id": "62e24ee1",
   "metadata": {},
   "outputs": [],
   "source": [
    "#K-fold cross-validation\n",
    "from sklearn.model_selection import cross_val_score\n",
    "scores = cross_val_score(xgb_reg, val_X, val_y, scoring=\"neg_mean_squared_error\", cv=10)\n",
    "xgb_reg_rmse_scores = np.sqrt(-scores)\n"
   ]
  },
  {
   "cell_type": "code",
   "execution_count": 119,
   "id": "5828e1e1",
   "metadata": {},
   "outputs": [],
   "source": [
    "def display_scores(scores):\n",
    "    print(\"Scores:\", scores)\n",
    "    print(\"Mean:\", scores.mean())\n",
    "    print(\"Standard deviation:\", scores.std())"
   ]
  },
  {
   "cell_type": "code",
   "execution_count": 120,
   "id": "de180bd6",
   "metadata": {},
   "outputs": [
    {
     "name": "stdout",
     "output_type": "stream",
     "text": [
      "Scores: [0.0205511  0.0329958  0.0431946  0.03329294 0.05062901 0.04184261\n",
      " 0.01619967 0.01094537 0.03032793 0.02262939]\n",
      "Mean: 0.03026084095379906\n",
      "Standard deviation: 0.012067652381904754\n"
     ]
    }
   ],
   "source": [
    "display_scores(xgb_reg_rmse_scores)"
   ]
  },
  {
   "cell_type": "markdown",
   "id": "5a068edc",
   "metadata": {},
   "source": [
    "### Random Forest"
   ]
  },
  {
   "cell_type": "code",
   "execution_count": 121,
   "id": "817ac351",
   "metadata": {},
   "outputs": [
    {
     "data": {
      "text/plain": [
       "RandomForestRegressor()"
      ]
     },
     "execution_count": 121,
     "metadata": {},
     "output_type": "execute_result"
    }
   ],
   "source": [
    "from sklearn.ensemble import RandomForestRegressor\n",
    "forest_reg = RandomForestRegressor()\n",
    "forest_reg.fit(train_X, train_y)"
   ]
  },
  {
   "cell_type": "code",
   "execution_count": 122,
   "id": "3a614168",
   "metadata": {},
   "outputs": [
    {
     "data": {
      "text/plain": [
       "0.0003442726191309217"
      ]
     },
     "execution_count": 122,
     "metadata": {},
     "output_type": "execute_result"
    }
   ],
   "source": [
    "# testing on training set\n",
    "prediction = forest_reg.predict(train_X)\n",
    "mean_absolute_error(train_y, prediction)"
   ]
  },
  {
   "cell_type": "code",
   "execution_count": 123,
   "id": "1fa7d9cb",
   "metadata": {},
   "outputs": [
    {
     "data": {
      "text/plain": [
       "0.0013014273719563392"
      ]
     },
     "execution_count": 123,
     "metadata": {},
     "output_type": "execute_result"
    }
   ],
   "source": [
    "#testing on tesing set\n",
    "prediction = forest_reg.predict(val_X)\n",
    "mean_absolute_error(val_y, prediction)"
   ]
  },
  {
   "cell_type": "code",
   "execution_count": 124,
   "id": "0cb2f822",
   "metadata": {},
   "outputs": [],
   "source": [
    "#K-fold cross-validation\n",
    "from sklearn.model_selection import cross_val_score\n",
    "scores = cross_val_score(forest_reg, val_X, val_y, scoring=\"neg_mean_squared_error\", cv=10)\n",
    "forest_reg_rmse_scores = np.sqrt(-scores)\n"
   ]
  },
  {
   "cell_type": "code",
   "execution_count": 125,
   "id": "55e58afc",
   "metadata": {},
   "outputs": [
    {
     "name": "stdout",
     "output_type": "stream",
     "text": [
      "Scores: [0.03475393 0.04116199 0.03922762 0.04900503 0.05277646 0.03328837\n",
      " 0.02958828 0.04909631 0.03781213 0.03258401]\n",
      "Mean: 0.03992941394077496\n",
      "Standard deviation: 0.007547998840086916\n"
     ]
    }
   ],
   "source": [
    "display_scores(forest_reg_rmse_scores)"
   ]
  },
  {
   "cell_type": "code",
   "execution_count": 126,
   "id": "67559b8b",
   "metadata": {},
   "outputs": [],
   "source": [
    "# Saving model to disk\n",
    "import pickle \n",
    "pickle.dump(forest_reg, open('model.pkl','wb'))"
   ]
  },
  {
   "cell_type": "code",
   "execution_count": 127,
   "id": "973bd214",
   "metadata": {},
   "outputs": [
    {
     "data": {
      "text/html": [
       "<div>\n",
       "<style scoped>\n",
       "    .dataframe tbody tr th:only-of-type {\n",
       "        vertical-align: middle;\n",
       "    }\n",
       "\n",
       "    .dataframe tbody tr th {\n",
       "        vertical-align: top;\n",
       "    }\n",
       "\n",
       "    .dataframe thead th {\n",
       "        text-align: right;\n",
       "    }\n",
       "</style>\n",
       "<table border=\"1\" class=\"dataframe\">\n",
       "  <thead>\n",
       "    <tr style=\"text-align: right;\">\n",
       "      <th></th>\n",
       "      <th>founded_at</th>\n",
       "      <th>first_funding_at</th>\n",
       "      <th>last_funding_at</th>\n",
       "      <th>funding_rounds</th>\n",
       "      <th>funding_total_usd</th>\n",
       "      <th>first_milestone_at</th>\n",
       "      <th>last_milestone_at</th>\n",
       "      <th>milestones</th>\n",
       "      <th>relationships</th>\n",
       "      <th>lat</th>\n",
       "      <th>lng</th>\n",
       "      <th>Active_Days</th>\n",
       "    </tr>\n",
       "  </thead>\n",
       "  <tbody>\n",
       "    <tr>\n",
       "      <th>11607</th>\n",
       "      <td>2002</td>\n",
       "      <td>2010.0</td>\n",
       "      <td>2011.0</td>\n",
       "      <td>1.0</td>\n",
       "      <td>3652912.0</td>\n",
       "      <td>2009.0</td>\n",
       "      <td>2009.0</td>\n",
       "      <td>1.0</td>\n",
       "      <td>1.0</td>\n",
       "      <td>42.360082</td>\n",
       "      <td>-71.058880</td>\n",
       "      <td>6935.0</td>\n",
       "    </tr>\n",
       "    <tr>\n",
       "      <th>60747</th>\n",
       "      <td>1972</td>\n",
       "      <td>2010.0</td>\n",
       "      <td>2011.0</td>\n",
       "      <td>1.0</td>\n",
       "      <td>3652912.0</td>\n",
       "      <td>2009.0</td>\n",
       "      <td>2009.0</td>\n",
       "      <td>1.0</td>\n",
       "      <td>2.0</td>\n",
       "      <td>38.252665</td>\n",
       "      <td>-85.758456</td>\n",
       "      <td>17885.0</td>\n",
       "    </tr>\n",
       "    <tr>\n",
       "      <th>28129</th>\n",
       "      <td>2012</td>\n",
       "      <td>2010.0</td>\n",
       "      <td>2011.0</td>\n",
       "      <td>1.0</td>\n",
       "      <td>3652912.0</td>\n",
       "      <td>2012.0</td>\n",
       "      <td>2012.0</td>\n",
       "      <td>1.0</td>\n",
       "      <td>2.0</td>\n",
       "      <td>46.813878</td>\n",
       "      <td>-71.207981</td>\n",
       "      <td>3285.0</td>\n",
       "    </tr>\n",
       "    <tr>\n",
       "      <th>45746</th>\n",
       "      <td>2008</td>\n",
       "      <td>2008.0</td>\n",
       "      <td>2008.0</td>\n",
       "      <td>1.0</td>\n",
       "      <td>5600.0</td>\n",
       "      <td>2009.0</td>\n",
       "      <td>2009.0</td>\n",
       "      <td>1.0</td>\n",
       "      <td>1.0</td>\n",
       "      <td>45.012682</td>\n",
       "      <td>-93.172023</td>\n",
       "      <td>4745.0</td>\n",
       "    </tr>\n",
       "    <tr>\n",
       "      <th>169556</th>\n",
       "      <td>2009</td>\n",
       "      <td>2010.0</td>\n",
       "      <td>2011.0</td>\n",
       "      <td>1.0</td>\n",
       "      <td>3652912.0</td>\n",
       "      <td>2009.0</td>\n",
       "      <td>2009.0</td>\n",
       "      <td>1.0</td>\n",
       "      <td>1.0</td>\n",
       "      <td>37.368830</td>\n",
       "      <td>-122.036350</td>\n",
       "      <td>4380.0</td>\n",
       "    </tr>\n",
       "  </tbody>\n",
       "</table>\n",
       "</div>"
      ],
      "text/plain": [
       "        founded_at  first_funding_at  last_funding_at  funding_rounds  \\\n",
       "11607         2002            2010.0           2011.0             1.0   \n",
       "60747         1972            2010.0           2011.0             1.0   \n",
       "28129         2012            2010.0           2011.0             1.0   \n",
       "45746         2008            2008.0           2008.0             1.0   \n",
       "169556        2009            2010.0           2011.0             1.0   \n",
       "\n",
       "        funding_total_usd  first_milestone_at  last_milestone_at  milestones  \\\n",
       "11607           3652912.0              2009.0             2009.0         1.0   \n",
       "60747           3652912.0              2009.0             2009.0         1.0   \n",
       "28129           3652912.0              2012.0             2012.0         1.0   \n",
       "45746              5600.0              2009.0             2009.0         1.0   \n",
       "169556          3652912.0              2009.0             2009.0         1.0   \n",
       "\n",
       "        relationships        lat         lng  Active_Days  \n",
       "11607             1.0  42.360082  -71.058880       6935.0  \n",
       "60747             2.0  38.252665  -85.758456      17885.0  \n",
       "28129             2.0  46.813878  -71.207981       3285.0  \n",
       "45746             1.0  45.012682  -93.172023       4745.0  \n",
       "169556            1.0  37.368830 -122.036350       4380.0  "
      ]
     },
     "execution_count": 127,
     "metadata": {},
     "output_type": "execute_result"
    }
   ],
   "source": [
    "train_X.sample(5)"
   ]
  },
  {
   "cell_type": "code",
   "execution_count": 128,
   "id": "d0c44478",
   "metadata": {},
   "outputs": [
    {
     "data": {
      "text/plain": [
       "40716     1\n",
       "48556     1\n",
       "62635     1\n",
       "181973    1\n",
       "160896    1\n",
       "Name: isClosed, dtype: int64"
      ]
     },
     "execution_count": 128,
     "metadata": {},
     "output_type": "execute_result"
    }
   ],
   "source": [
    "train_y.sample(5)"
   ]
  },
  {
   "cell_type": "markdown",
   "id": "ec77e160",
   "metadata": {},
   "source": [
    "### Support Vector Machine."
   ]
  },
  {
   "cell_type": "code",
   "execution_count": null,
   "id": "2bca7935",
   "metadata": {},
   "outputs": [],
   "source": []
  },
  {
   "cell_type": "code",
   "execution_count": null,
   "id": "55c6f9fc",
   "metadata": {},
   "outputs": [],
   "source": []
  },
  {
   "cell_type": "code",
   "execution_count": null,
   "id": "35fe49fb",
   "metadata": {},
   "outputs": [],
   "source": []
  },
  {
   "cell_type": "code",
   "execution_count": null,
   "id": "e0eacf4c",
   "metadata": {},
   "outputs": [],
   "source": []
  },
  {
   "cell_type": "code",
   "execution_count": null,
   "id": "e675bb76",
   "metadata": {},
   "outputs": [],
   "source": []
  },
  {
   "cell_type": "markdown",
   "id": "5262ec22",
   "metadata": {},
   "source": [
    "#### Underfitting and Overfitting"
   ]
  },
  {
   "cell_type": "code",
   "execution_count": 129,
   "id": "b4d58c6c",
   "metadata": {},
   "outputs": [],
   "source": [
    "# from sklearn.metrics import mean_absolute_error\n",
    "#def get_mae(max_leaf_nodes, train_X, val_X, train_y, val_y):\n",
    "    #company_model = LogisticRegression(max_leaf_nodes=max_leaf_nodes, random_state=0)\n",
    "    #model.fit(train_X, train_y)\n",
    "    #preds_val = model.predict(val_X)\n",
    "    #mae = mean_absolute_error(val_y, preds_val)\n",
    "    #return(mae)"
   ]
  },
  {
   "cell_type": "code",
   "execution_count": 130,
   "id": "69d1f19d",
   "metadata": {},
   "outputs": [],
   "source": [
    "#for max_leaf_nodes in [5, 50, 500, 5000]:\n",
    "    #my_mae = get_mae(max_leaf_nodes, train_X, val_X, train_y, val_y)\n",
    "    #print(\"Max leaf nodes: %d  \\t\\t Mean Absolute Error:  %d\" %(max_leaf_nodes, my_mae))"
   ]
  },
  {
   "cell_type": "markdown",
   "id": "2344c64a",
   "metadata": {},
   "source": [
    "### XGBoost"
   ]
  },
  {
   "cell_type": "code",
   "execution_count": 131,
   "id": "7e9b8499",
   "metadata": {},
   "outputs": [],
   "source": [
    "# X = company.drop('isClosed', axis=1) # features\n",
    "# y = company.isClosed #Target"
   ]
  },
  {
   "cell_type": "code",
   "execution_count": 132,
   "id": "d691a08d",
   "metadata": {},
   "outputs": [],
   "source": [
    "# Separate data into training and validation sets\n",
    "# X_train, X_test, y_train, y_test = train_test_split(X, y)"
   ]
  },
  {
   "cell_type": "code",
   "execution_count": 133,
   "id": "74dd4d2d",
   "metadata": {},
   "outputs": [],
   "source": [
    "# predict = my_model.predict(X_test)\n",
    "# from sklearn.metrics import mean_absolute_error\n",
    "# mae = mean_absolute_error(predict, y_test)\n",
    "# print(\"Mean Absolute Error:\" , mae)"
   ]
  },
  {
   "cell_type": "code",
   "execution_count": 134,
   "id": "752c0d93",
   "metadata": {},
   "outputs": [],
   "source": [
    "# accuracy_score(y_test, predict)"
   ]
  },
  {
   "cell_type": "code",
   "execution_count": 135,
   "id": "354ed7dd",
   "metadata": {},
   "outputs": [],
   "source": [
    "# ## Hyper Parameter Optimization\n",
    "# params={\n",
    "#  \"learning_rate\"    : [0.05, 0.10, 0.15, 0.20, 0.25, 0.30 ] ,\n",
    "#  \"max_depth\"        : [ 3, 4, 5, 6, 8, 10, 12, 15],\n",
    "#  \"min_child_weight\" : [ 1, 3, 5, 7 ],\n",
    "#  \"gamma\"            : [ 0.0, 0.1, 0.2 , 0.3, 0.4 ],\n",
    "#  \"colsample_bytree\" : [ 0.3, 0.4, 0.5 , 0.7 ]\n",
    "    \n",
    "# }"
   ]
  },
  {
   "cell_type": "code",
   "execution_count": 136,
   "id": "9ff8294e",
   "metadata": {},
   "outputs": [],
   "source": [
    "# ## Hyperparameter optimization using RandomizedSearchCV\n",
    "# from sklearn.model_selection import RandomizedSearchCV, GridSearchCV\n",
    "# import xgboost"
   ]
  },
  {
   "cell_type": "code",
   "execution_count": 137,
   "id": "640c4f66",
   "metadata": {},
   "outputs": [],
   "source": [
    "# def timer(start_time=None):\n",
    "#     if not start_time:\n",
    "#         start_time = datetime.now()\n",
    "#         return start_time\n",
    "#     elif start_time:\n",
    "#         thour, temp_sec = divmod((datetime.now() - start_time).total_seconds(), 3600)\n",
    "#         tmin, tsec = divmod(temp_sec, 60)\n",
    "#         print('\\n Time taken: %i hours %i minutes and %s seconds.' % (thour, tmin, round(tsec, 2)))"
   ]
  },
  {
   "cell_type": "code",
   "execution_count": 138,
   "id": "b2f92012",
   "metadata": {},
   "outputs": [],
   "source": [
    "# classifier=xgboost.XGBClassifier()"
   ]
  },
  {
   "cell_type": "code",
   "execution_count": 139,
   "id": "dedb1680",
   "metadata": {},
   "outputs": [],
   "source": [
    "# random_search=RandomizedSearchCV(classifier,param_distributions=params,n_iter=5,scoring='roc_auc',n_jobs=-1,cv=5,verbose=3)"
   ]
  },
  {
   "cell_type": "code",
   "execution_count": 140,
   "id": "266b7356",
   "metadata": {},
   "outputs": [],
   "source": [
    "# from datetime import datetime\n",
    "# # Here we go\n",
    "# start_time = timer(None) # timing starts from this point for \"start_time\" variable\n",
    "# random_search.fit(X,y)\n",
    "# timer(start_time) # timing ends here for \"start_time\" variable"
   ]
  },
  {
   "cell_type": "code",
   "execution_count": 141,
   "id": "80245c4b",
   "metadata": {},
   "outputs": [],
   "source": [
    "# random_search.best_estimator_"
   ]
  },
  {
   "cell_type": "code",
   "execution_count": 142,
   "id": "7376dd15",
   "metadata": {},
   "outputs": [],
   "source": [
    "# random_search.best_params_"
   ]
  },
  {
   "cell_type": "code",
   "execution_count": 143,
   "id": "5411a0fa",
   "metadata": {},
   "outputs": [],
   "source": [
    "# classifier=xgboost.XGBClassifier(base_score=0.5, booster='gbtree', callbacks=None,\n",
    "#               colsample_bylevel=1, colsample_bynode=1, colsample_bytree=0.7,\n",
    "#               early_stopping_rounds=None, enable_categorical=False,\n",
    "#               eval_metric=None, gamma=0.3, gpu_id=-1, grow_policy='depthwise',\n",
    "#               importance_type=None, interaction_constraints='',\n",
    "#               learning_rate=0.2, max_bin=256, max_cat_to_onehot=4,\n",
    "#               max_delta_step=0, max_depth=5, max_leaves=0, min_child_weight=3,\n",
    "#                 monotone_constraints='()', n_estimators=100,\n",
    "#               n_jobs=0, num_parallel_tree=1, predictor='auto', random_state=0,\n",
    "#               reg_alpha=0, reg_lambda=1)"
   ]
  },
  {
   "cell_type": "code",
   "execution_count": 144,
   "id": "85edc271",
   "metadata": {},
   "outputs": [],
   "source": [
    "# from sklearn.model_selection import cross_val_score\n",
    "# score=cross_val_score(classifier,X,y,cv=10)"
   ]
  },
  {
   "cell_type": "code",
   "execution_count": 145,
   "id": "51413d53",
   "metadata": {},
   "outputs": [],
   "source": [
    "# score"
   ]
  },
  {
   "cell_type": "code",
   "execution_count": 146,
   "id": "fa8f3f8a",
   "metadata": {},
   "outputs": [],
   "source": [
    "# score.mean()"
   ]
  },
  {
   "cell_type": "code",
   "execution_count": null,
   "id": "363a9c55",
   "metadata": {},
   "outputs": [],
   "source": []
  }
 ],
 "metadata": {
  "kernelspec": {
   "display_name": "Python 3 (ipykernel)",
   "language": "python",
   "name": "python3"
  },
  "language_info": {
   "codemirror_mode": {
    "name": "ipython",
    "version": 3
   },
   "file_extension": ".py",
   "mimetype": "text/x-python",
   "name": "python",
   "nbconvert_exporter": "python",
   "pygments_lexer": "ipython3",
   "version": "3.10.1"
  }
 },
 "nbformat": 4,
 "nbformat_minor": 5
}
